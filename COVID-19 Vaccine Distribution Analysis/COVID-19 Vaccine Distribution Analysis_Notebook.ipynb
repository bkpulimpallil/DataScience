{
 "cells": [
  {
   "cell_type": "markdown",
   "metadata": {
    "id": "FQNFZFuFfvlv"
   },
   "source": [
    "# COVID-19 Vaccine Distribution Analysis\n",
    "This project will analyze Ontario's COVID-19 data by factoring in criteria such as “Age, Sex, Exposure Type, Location, Case Status” to get an understanding of how the COVID-19 vaccines should be distributed.\n",
    "\n",
    "Our Data Set:\n",
    "\n",
    "Covid Cases data set obtained from https://resources-covid19canada.hub.arcgis.com/datasets/compiled-covid-19-case-details-canada/data\n",
    "Hypotheses: The approach for the analysis will focus on comparing different factors like “Age, Location, Case Status, Gender” and the correlation between them. We will use this data to predict how vaccination can be distributed to limit the mortality rate and the spreading of the disease"
   ]
  },
  {
   "cell_type": "markdown",
   "metadata": {
    "id": "4Wm8XoxYfvlx"
   },
   "source": [
    "#1. Initiation "
   ]
  },
  {
   "cell_type": "code",
   "execution_count": null,
   "metadata": {
    "colab": {
     "base_uri": "https://localhost:8080/"
    },
    "id": "NfEo5scArrfT",
    "outputId": "843311c3-50e9-4338-c2ac-42a639c81117"
   },
   "outputs": [
    {
     "name": "stdout",
     "output_type": "stream",
     "text": [
      "Requirement already satisfied: geopandas in /usr/local/lib/python3.6/dist-packages (0.8.1)\n",
      "Requirement already satisfied: shapely in /usr/local/lib/python3.6/dist-packages (from geopandas) (1.7.1)\n",
      "Requirement already satisfied: pandas>=0.23.0 in /usr/local/lib/python3.6/dist-packages (from geopandas) (1.1.5)\n",
      "Requirement already satisfied: fiona in /usr/local/lib/python3.6/dist-packages (from geopandas) (1.8.18)\n",
      "Requirement already satisfied: pyproj>=2.2.0 in /usr/local/lib/python3.6/dist-packages (from geopandas) (3.0.0.post1)\n",
      "Requirement already satisfied: numpy>=1.15.4 in /usr/local/lib/python3.6/dist-packages (from pandas>=0.23.0->geopandas) (1.18.5)\n",
      "Requirement already satisfied: pytz>=2017.2 in /usr/local/lib/python3.6/dist-packages (from pandas>=0.23.0->geopandas) (2018.9)\n",
      "Requirement already satisfied: python-dateutil>=2.7.3 in /usr/local/lib/python3.6/dist-packages (from pandas>=0.23.0->geopandas) (2.8.1)\n",
      "Requirement already satisfied: certifi in /usr/local/lib/python3.6/dist-packages (from fiona->geopandas) (2020.12.5)\n",
      "Requirement already satisfied: cligj>=0.5 in /usr/local/lib/python3.6/dist-packages (from fiona->geopandas) (0.7.1)\n",
      "Requirement already satisfied: attrs>=17 in /usr/local/lib/python3.6/dist-packages (from fiona->geopandas) (20.3.0)\n",
      "Requirement already satisfied: click<8,>=4.0 in /usr/local/lib/python3.6/dist-packages (from fiona->geopandas) (7.1.2)\n",
      "Requirement already satisfied: click-plugins>=1.0 in /usr/local/lib/python3.6/dist-packages (from fiona->geopandas) (1.1.1)\n",
      "Requirement already satisfied: munch in /usr/local/lib/python3.6/dist-packages (from fiona->geopandas) (2.5.0)\n",
      "Requirement already satisfied: six>=1.7 in /usr/local/lib/python3.6/dist-packages (from fiona->geopandas) (1.15.0)\n"
     ]
    }
   ],
   "source": [
    "#1.1\n",
    "# We will need to install following packages \n",
    "!pip install geopandas\n"
   ]
  },
  {
   "cell_type": "code",
   "execution_count": null,
   "metadata": {
    "id": "JvyMN80EE-jb"
   },
   "outputs": [],
   "source": [
    "\n",
    "#from google.colab import drive\n",
    "#drive.mount('/content/drive')"
   ]
  },
  {
   "cell_type": "code",
   "execution_count": null,
   "metadata": {
    "colab": {
     "base_uri": "https://localhost:8080/"
    },
    "id": "7hyNx5HKvb1-",
    "outputId": "8dded6c6-1250-4100-e08c-199efefb46cb"
   },
   "outputs": [
    {
     "name": "stdout",
     "output_type": "stream",
     "text": [
      "Requirement already satisfied: adjustText in /usr/local/lib/python3.6/dist-packages (0.7.3)\n",
      "Requirement already satisfied: numpy in /usr/local/lib/python3.6/dist-packages (from adjustText) (1.18.5)\n",
      "Requirement already satisfied: matplotlib in /usr/local/lib/python3.6/dist-packages (from adjustText) (3.2.2)\n",
      "Requirement already satisfied: python-dateutil>=2.1 in /usr/local/lib/python3.6/dist-packages (from matplotlib->adjustText) (2.8.1)\n",
      "Requirement already satisfied: pyparsing!=2.0.4,!=2.1.2,!=2.1.6,>=2.0.1 in /usr/local/lib/python3.6/dist-packages (from matplotlib->adjustText) (2.4.7)\n",
      "Requirement already satisfied: kiwisolver>=1.0.1 in /usr/local/lib/python3.6/dist-packages (from matplotlib->adjustText) (1.3.1)\n",
      "Requirement already satisfied: cycler>=0.10 in /usr/local/lib/python3.6/dist-packages (from matplotlib->adjustText) (0.10.0)\n",
      "Requirement already satisfied: six>=1.5 in /usr/local/lib/python3.6/dist-packages (from python-dateutil>=2.1->matplotlib->adjustText) (1.15.0)\n"
     ]
    }
   ],
   "source": [
    "!pip install adjustText"
   ]
  },
  {
   "cell_type": "code",
   "execution_count": 1,
   "metadata": {
    "id": "rppst83sfvly"
   },
   "outputs": [],
   "source": [
    "import numpy as np\n",
    "import pandas as pd\n",
    "\n",
    "import seaborn as sns\n",
    "import matplotlib.pyplot as plt\n",
    "%matplotlib inline\n",
    "\n",
    "from sklearn.model_selection import train_test_split as tts\n",
    "from sklearn.neighbors import KNeighborsClassifier as knc\n",
    "from sklearn.preprocessing import LabelEncoder\n",
    "import csv\n",
    "\n",
    "import geopandas as gpd\n",
    "from shapely.geometry import Point, Polygon\n",
    "import adjustText as aT"
   ]
  },
  {
   "cell_type": "markdown",
   "metadata": {
    "id": "JeUUAZvyfvlz"
   },
   "source": [
    "#2. **Data Loading**"
   ]
  },
  {
   "cell_type": "code",
   "execution_count": 2,
   "metadata": {
    "colab": {
     "base_uri": "https://localhost:8080/",
     "height": 940
    },
    "id": "YlnbBRiNfvlz",
    "outputId": "b4f13f75-bcbd-4a3a-b063-55bd4fc7efd4"
   },
   "outputs": [
    {
     "data": {
      "text/html": [
       "<div>\n",
       "<style scoped>\n",
       "    .dataframe tbody tr th:only-of-type {\n",
       "        vertical-align: middle;\n",
       "    }\n",
       "\n",
       "    .dataframe tbody tr th {\n",
       "        vertical-align: top;\n",
       "    }\n",
       "\n",
       "    .dataframe thead th {\n",
       "        text-align: right;\n",
       "    }\n",
       "</style>\n",
       "<table border=\"1\" class=\"dataframe\">\n",
       "  <thead>\n",
       "    <tr style=\"text-align: right;\">\n",
       "      <th></th>\n",
       "      <th>ObjectId</th>\n",
       "      <th>row_id</th>\n",
       "      <th>date_reported</th>\n",
       "      <th>health_region</th>\n",
       "      <th>age_group</th>\n",
       "      <th>gender</th>\n",
       "      <th>exposure</th>\n",
       "      <th>case_status</th>\n",
       "      <th>latitude</th>\n",
       "      <th>longitude</th>\n",
       "      <th>province</th>\n",
       "      <th>province_abbr</th>\n",
       "      <th>hr_uid</th>\n",
       "    </tr>\n",
       "  </thead>\n",
       "  <tbody>\n",
       "    <tr>\n",
       "      <th>0</th>\n",
       "      <td>1</td>\n",
       "      <td>500</td>\n",
       "      <td>2020/10/05 12:00:00</td>\n",
       "      <td>Grey Bruce Health Unit</td>\n",
       "      <td>40-49</td>\n",
       "      <td>Female</td>\n",
       "      <td>Not Reported</td>\n",
       "      <td>Recovered</td>\n",
       "      <td>44.408279</td>\n",
       "      <td>-81.008611</td>\n",
       "      <td>Ontario</td>\n",
       "      <td>ON</td>\n",
       "      <td>3533.0</td>\n",
       "    </tr>\n",
       "    <tr>\n",
       "      <th>1</th>\n",
       "      <td>2</td>\n",
       "      <td>501</td>\n",
       "      <td>2020/11/27 12:00:00</td>\n",
       "      <td>York Region Public Health Services</td>\n",
       "      <td>40-49</td>\n",
       "      <td>Female</td>\n",
       "      <td>Outbreak</td>\n",
       "      <td>Active</td>\n",
       "      <td>44.074977</td>\n",
       "      <td>-79.428212</td>\n",
       "      <td>Ontario</td>\n",
       "      <td>ON</td>\n",
       "      <td>3570.0</td>\n",
       "    </tr>\n",
       "    <tr>\n",
       "      <th>2</th>\n",
       "      <td>3</td>\n",
       "      <td>502</td>\n",
       "      <td>2020/11/27 12:00:00</td>\n",
       "      <td>Peel Public Health</td>\n",
       "      <td>50-59</td>\n",
       "      <td>Male</td>\n",
       "      <td>Not Reported</td>\n",
       "      <td>Active</td>\n",
       "      <td>43.761613</td>\n",
       "      <td>-79.813571</td>\n",
       "      <td>Ontario</td>\n",
       "      <td>ON</td>\n",
       "      <td>3553.0</td>\n",
       "    </tr>\n",
       "    <tr>\n",
       "      <th>3</th>\n",
       "      <td>4</td>\n",
       "      <td>503</td>\n",
       "      <td>2020/11/16 12:00:00</td>\n",
       "      <td>Peel Public Health</td>\n",
       "      <td>40-49</td>\n",
       "      <td>Female</td>\n",
       "      <td>Close Contact</td>\n",
       "      <td>Recovered</td>\n",
       "      <td>43.761613</td>\n",
       "      <td>-79.813571</td>\n",
       "      <td>Ontario</td>\n",
       "      <td>ON</td>\n",
       "      <td>3553.0</td>\n",
       "    </tr>\n",
       "    <tr>\n",
       "      <th>4</th>\n",
       "      <td>5</td>\n",
       "      <td>504</td>\n",
       "      <td>2020/11/30 12:00:00</td>\n",
       "      <td>Windsor-Essex County Health Unit</td>\n",
       "      <td>40-49</td>\n",
       "      <td>Male</td>\n",
       "      <td>Close Contact</td>\n",
       "      <td>Active</td>\n",
       "      <td>42.156423</td>\n",
       "      <td>-82.777533</td>\n",
       "      <td>Ontario</td>\n",
       "      <td>ON</td>\n",
       "      <td>3568.0</td>\n",
       "    </tr>\n",
       "    <tr>\n",
       "      <th>...</th>\n",
       "      <td>...</td>\n",
       "      <td>...</td>\n",
       "      <td>...</td>\n",
       "      <td>...</td>\n",
       "      <td>...</td>\n",
       "      <td>...</td>\n",
       "      <td>...</td>\n",
       "      <td>...</td>\n",
       "      <td>...</td>\n",
       "      <td>...</td>\n",
       "      <td>...</td>\n",
       "      <td>...</td>\n",
       "      <td>...</td>\n",
       "    </tr>\n",
       "    <tr>\n",
       "      <th>127495</th>\n",
       "      <td>127496</td>\n",
       "      <td>125995</td>\n",
       "      <td>2020/09/28 12:00:00</td>\n",
       "      <td>Durham Region Health Department</td>\n",
       "      <td>50-59</td>\n",
       "      <td>Female</td>\n",
       "      <td>Close Contact</td>\n",
       "      <td>Recovered</td>\n",
       "      <td>44.035150</td>\n",
       "      <td>-78.882498</td>\n",
       "      <td>Ontario</td>\n",
       "      <td>ON</td>\n",
       "      <td>3530.0</td>\n",
       "    </tr>\n",
       "    <tr>\n",
       "      <th>127496</th>\n",
       "      <td>127497</td>\n",
       "      <td>125996</td>\n",
       "      <td>2020/11/23 12:00:00</td>\n",
       "      <td>Toronto Public Health</td>\n",
       "      <td>20-29</td>\n",
       "      <td>Male</td>\n",
       "      <td>Not Reported</td>\n",
       "      <td>Active</td>\n",
       "      <td>43.725845</td>\n",
       "      <td>-79.389558</td>\n",
       "      <td>Ontario</td>\n",
       "      <td>ON</td>\n",
       "      <td>3595.0</td>\n",
       "    </tr>\n",
       "    <tr>\n",
       "      <th>127497</th>\n",
       "      <td>127498</td>\n",
       "      <td>125997</td>\n",
       "      <td>2020/11/02 12:00:00</td>\n",
       "      <td>Toronto Public Health</td>\n",
       "      <td>30-39</td>\n",
       "      <td>Female</td>\n",
       "      <td>Not Reported</td>\n",
       "      <td>Recovered</td>\n",
       "      <td>43.725845</td>\n",
       "      <td>-79.389558</td>\n",
       "      <td>Ontario</td>\n",
       "      <td>ON</td>\n",
       "      <td>3595.0</td>\n",
       "    </tr>\n",
       "    <tr>\n",
       "      <th>127498</th>\n",
       "      <td>127499</td>\n",
       "      <td>125998</td>\n",
       "      <td>2020/11/11 12:00:00</td>\n",
       "      <td>Toronto Public Health</td>\n",
       "      <td>20-29</td>\n",
       "      <td>Female</td>\n",
       "      <td>Not Reported</td>\n",
       "      <td>Recovered</td>\n",
       "      <td>43.725845</td>\n",
       "      <td>-79.389558</td>\n",
       "      <td>Ontario</td>\n",
       "      <td>ON</td>\n",
       "      <td>3595.0</td>\n",
       "    </tr>\n",
       "    <tr>\n",
       "      <th>127499</th>\n",
       "      <td>127500</td>\n",
       "      <td>125999</td>\n",
       "      <td>2020/06/28 12:00:00</td>\n",
       "      <td>Toronto Public Health</td>\n",
       "      <td>20-29</td>\n",
       "      <td>Female</td>\n",
       "      <td>Close Contact</td>\n",
       "      <td>Recovered</td>\n",
       "      <td>43.725845</td>\n",
       "      <td>-79.389558</td>\n",
       "      <td>Ontario</td>\n",
       "      <td>ON</td>\n",
       "      <td>3595.0</td>\n",
       "    </tr>\n",
       "  </tbody>\n",
       "</table>\n",
       "<p>127309 rows × 13 columns</p>\n",
       "</div>"
      ],
      "text/plain": [
       "        ObjectId  row_id        date_reported  \\\n",
       "0              1     500  2020/10/05 12:00:00   \n",
       "1              2     501  2020/11/27 12:00:00   \n",
       "2              3     502  2020/11/27 12:00:00   \n",
       "3              4     503  2020/11/16 12:00:00   \n",
       "4              5     504  2020/11/30 12:00:00   \n",
       "...          ...     ...                  ...   \n",
       "127495    127496  125995  2020/09/28 12:00:00   \n",
       "127496    127497  125996  2020/11/23 12:00:00   \n",
       "127497    127498  125997  2020/11/02 12:00:00   \n",
       "127498    127499  125998  2020/11/11 12:00:00   \n",
       "127499    127500  125999  2020/06/28 12:00:00   \n",
       "\n",
       "                             health_region age_group  gender       exposure  \\\n",
       "0                   Grey Bruce Health Unit     40-49  Female   Not Reported   \n",
       "1       York Region Public Health Services     40-49  Female       Outbreak   \n",
       "2                       Peel Public Health     50-59    Male   Not Reported   \n",
       "3                       Peel Public Health     40-49  Female  Close Contact   \n",
       "4         Windsor-Essex County Health Unit     40-49    Male  Close Contact   \n",
       "...                                    ...       ...     ...            ...   \n",
       "127495     Durham Region Health Department     50-59  Female  Close Contact   \n",
       "127496               Toronto Public Health     20-29    Male   Not Reported   \n",
       "127497               Toronto Public Health     30-39  Female   Not Reported   \n",
       "127498               Toronto Public Health     20-29  Female   Not Reported   \n",
       "127499               Toronto Public Health     20-29  Female  Close Contact   \n",
       "\n",
       "       case_status   latitude  longitude province province_abbr  hr_uid  \n",
       "0        Recovered  44.408279 -81.008611  Ontario            ON  3533.0  \n",
       "1           Active  44.074977 -79.428212  Ontario            ON  3570.0  \n",
       "2           Active  43.761613 -79.813571  Ontario            ON  3553.0  \n",
       "3        Recovered  43.761613 -79.813571  Ontario            ON  3553.0  \n",
       "4           Active  42.156423 -82.777533  Ontario            ON  3568.0  \n",
       "...            ...        ...        ...      ...           ...     ...  \n",
       "127495   Recovered  44.035150 -78.882498  Ontario            ON  3530.0  \n",
       "127496      Active  43.725845 -79.389558  Ontario            ON  3595.0  \n",
       "127497   Recovered  43.725845 -79.389558  Ontario            ON  3595.0  \n",
       "127498   Recovered  43.725845 -79.389558  Ontario            ON  3595.0  \n",
       "127499   Recovered  43.725845 -79.389558  Ontario            ON  3595.0  \n",
       "\n",
       "[127309 rows x 13 columns]"
      ]
     },
     "execution_count": 2,
     "metadata": {},
     "output_type": "execute_result"
    }
   ],
   "source": [
    "#2.1\n",
    "data=pd.read_csv('Compiled_COVID-19_Case_Details__Canada.csv')\n",
    "data = data[data['province_abbr'] == 'ON'] # We filter the data to ON\n",
    "data"
   ]
  },
  {
   "cell_type": "code",
   "execution_count": 3,
   "metadata": {
    "colab": {
     "base_uri": "https://localhost:8080/"
    },
    "id": "B45Zqurr1WoK",
    "outputId": "92572a38-39ee-4aef-afdc-166f6c7c541e"
   },
   "outputs": [
    {
     "name": "stdout",
     "output_type": "stream",
     "text": [
      "<class 'pandas.core.frame.DataFrame'>\n",
      "Int64Index: 127309 entries, 0 to 127499\n",
      "Data columns (total 13 columns):\n",
      " #   Column         Non-Null Count   Dtype  \n",
      "---  ------         --------------   -----  \n",
      " 0   ObjectId       127309 non-null  int64  \n",
      " 1   row_id         127309 non-null  int64  \n",
      " 2   date_reported  127309 non-null  object \n",
      " 3   health_region  127309 non-null  object \n",
      " 4   age_group      127309 non-null  object \n",
      " 5   gender         127309 non-null  object \n",
      " 6   exposure       127309 non-null  object \n",
      " 7   case_status    127309 non-null  object \n",
      " 8   latitude       127309 non-null  float64\n",
      " 9   longitude      127309 non-null  float64\n",
      " 10  province       127309 non-null  object \n",
      " 11  province_abbr  127309 non-null  object \n",
      " 12  hr_uid         127309 non-null  float64\n",
      "dtypes: float64(3), int64(2), object(8)\n",
      "memory usage: 13.6+ MB\n"
     ]
    }
   ],
   "source": [
    "#2.2\n",
    "#Get information about the data set\n",
    "data.info()"
   ]
  },
  {
   "cell_type": "code",
   "execution_count": 4,
   "metadata": {
    "colab": {
     "base_uri": "https://localhost:8080/"
    },
    "id": "VpOefpVofvl2",
    "outputId": "7b4ae44c-a24e-4b48-dad1-f25550a69029"
   },
   "outputs": [
    {
     "data": {
      "text/plain": [
       "ObjectId         0\n",
       "row_id           0\n",
       "date_reported    0\n",
       "health_region    0\n",
       "age_group        0\n",
       "gender           0\n",
       "exposure         0\n",
       "case_status      0\n",
       "latitude         0\n",
       "longitude        0\n",
       "province         0\n",
       "province_abbr    0\n",
       "hr_uid           0\n",
       "dtype: int64"
      ]
     },
     "execution_count": 4,
     "metadata": {},
     "output_type": "execute_result"
    }
   ],
   "source": [
    "#2.3\n",
    "#Check for Null Values\n",
    "data.isnull().sum()"
   ]
  },
  {
   "cell_type": "markdown",
   "metadata": {
    "id": "jdF-3JYEfvl8"
   },
   "source": [
    "#3. **Data Exploration and Data  Cleansing**"
   ]
  },
  {
   "cell_type": "code",
   "execution_count": 5,
   "metadata": {
    "colab": {
     "base_uri": "https://localhost:8080/"
    },
    "id": "f2wAfxgv2s0L",
    "outputId": "44d32ded-499d-44f7-cdb0-a25e7f5a0734"
   },
   "outputs": [
    {
     "data": {
      "text/plain": [
       "20-29           0.209969\n",
       "30-39           0.156148\n",
       "50-59           0.145386\n",
       "40-49           0.141011\n",
       "<20             0.122230\n",
       "60-69           0.093450\n",
       "80+             0.080748\n",
       "70-79           0.050915\n",
       "Not Reported    0.000141\n",
       "Name: age_group, dtype: float64"
      ]
     },
     "execution_count": 5,
     "metadata": {},
     "output_type": "execute_result"
    }
   ],
   "source": [
    "#3.3\n",
    "#Let's inspect some other columns \n",
    "data['age_group'].value_counts(normalize=True)\n"
   ]
  },
  {
   "cell_type": "code",
   "execution_count": 6,
   "metadata": {
    "colab": {
     "base_uri": "https://localhost:8080/"
    },
    "id": "eXUTsLmXl1q5",
    "outputId": "3c2bd8aa-68b9-4319-e483-a1feca06a83f"
   },
   "outputs": [
    {
     "data": {
      "text/plain": [
       "20-29    0.209999\n",
       "30-39    0.156170\n",
       "50-59    0.145407\n",
       "40-49    0.141031\n",
       "<20      0.122247\n",
       "60-69    0.093463\n",
       "80+      0.080760\n",
       "70-79    0.050923\n",
       "Name: age_group, dtype: float64"
      ]
     },
     "execution_count": 6,
     "metadata": {},
     "output_type": "execute_result"
    }
   ],
   "source": [
    "#3.4\n",
    "# Only 0.014 percent of the data has missing age group information. We will drop the data for our analysis.\n",
    "data = data[data.age_group != 'Not Reported']\n",
    "data['age_group'].value_counts(normalize=True)"
   ]
  },
  {
   "cell_type": "code",
   "execution_count": 7,
   "metadata": {
    "colab": {
     "base_uri": "https://localhost:8080/"
    },
    "id": "B_Zn020U3i7h",
    "outputId": "b0afd12b-349c-4ec5-dc67-9f62d796548b"
   },
   "outputs": [
    {
     "data": {
      "text/plain": [
       "Recovered    0.848261\n",
       "Active       0.122106\n",
       "Deceased     0.029633\n",
       "Name: case_status, dtype: float64"
      ]
     },
     "execution_count": 7,
     "metadata": {},
     "output_type": "execute_result"
    }
   ],
   "source": [
    "#3.5\n",
    "data['case_status'].value_counts(normalize=True)"
   ]
  },
  {
   "cell_type": "markdown",
   "metadata": {
    "id": "5nLAsiY0lWTt"
   },
   "source": [
    "Observation: About 85 % of the population recovered from Covid-19 and about 12% of the cases are active."
   ]
  },
  {
   "cell_type": "code",
   "execution_count": 8,
   "metadata": {
    "colab": {
     "base_uri": "https://localhost:8080/"
    },
    "id": "z05IbjZKHixc",
    "outputId": "c1ea18ce-26b4-4f91-c4f4-dbd3a5d6c574"
   },
   "outputs": [
    {
     "data": {
      "text/plain": [
       "Close Contact     0.407782\n",
       "Not Reported      0.353866\n",
       "Outbreak          0.212097\n",
       "Travel-Related    0.026255\n",
       "Name: exposure, dtype: float64"
      ]
     },
     "execution_count": 8,
     "metadata": {},
     "output_type": "execute_result"
    }
   ],
   "source": [
    "#3.6\n",
    "data['exposure'].value_counts(normalize=True)\n",
    "#35% of the exposure type data is Not Reported "
   ]
  },
  {
   "cell_type": "code",
   "execution_count": 9,
   "metadata": {
    "colab": {
     "base_uri": "https://localhost:8080/"
    },
    "id": "DEt9UxrYm5Vr",
    "outputId": "a0e84f29-0f71-440b-8a96-4bad69215598"
   },
   "outputs": [
    {
     "data": {
      "text/plain": [
       "Toronto Public Health                                       0.337518\n",
       "Peel Public Health                                          0.221752\n",
       "York Region Public Health Services                          0.093699\n",
       "Ottawa Public Health                                        0.068937\n",
       "Durham Region Health Department                             0.038746\n",
       "Windsor-Essex County Health Unit                            0.031259\n",
       "Region of Waterloo, Public Health                           0.031047\n",
       "Halton Region Health Department                             0.029947\n",
       "Hamilton Public Health Services                             0.028046\n",
       "Simcoe Muskoka District Health Unit                         0.018289\n",
       "Niagara Region Public Health Department                     0.017920\n",
       "Middlesex-London Health Unit                                0.014007\n",
       "Wellington-Dufferin-Guelph Public Health                    0.012090\n",
       "Eastern Ontario Health Unit                                 0.007338\n",
       "Haldimand-Norfolk Health Unit                               0.005154\n",
       "Brant County Health Unit                                    0.005012\n",
       "Southwestern Public Health                                  0.004941\n",
       "Chatham-Kent Health Unit                                    0.004109\n",
       "Leeds, Grenville and Lanark District Health Unit            0.004093\n",
       "Lambton Public Health                                       0.003355\n",
       "Huron Perth District Health Unit                            0.003017\n",
       "Thunder Bay District Health Unit                            0.002860\n",
       "Grey Bruce Health Unit                                      0.002695\n",
       "Haliburton, Kawartha, Pine Ridge District Health Unit       0.002695\n",
       "Kingston, Frontenac and Lennox & Addington Public Health    0.002278\n",
       "Sudbury & District Health Unit                              0.001815\n",
       "Peterborough Public Health                                  0.001775\n",
       "Hastings and Prince Edward Counties Health Unit             0.001351\n",
       "Renfrew County and District Health Unit                     0.001068\n",
       "Northwestern Health Unit                                    0.000990\n",
       "Porcupine Health Unit                                       0.000911\n",
       "North Bay Parry Sound District Health Unit                  0.000668\n",
       "Algoma Public Health Unit                                   0.000479\n",
       "Timiskaming Health Unit                                     0.000141\n",
       "Name: health_region, dtype: float64"
      ]
     },
     "execution_count": 9,
     "metadata": {},
     "output_type": "execute_result"
    }
   ],
   "source": [
    "#3.7\n",
    "data['health_region'].value_counts(normalize=True)\n"
   ]
  },
  {
   "cell_type": "markdown",
   "metadata": {
    "id": "j92e-h4InKnd"
   },
   "source": [
    "**Observation**: Toronto Public Health, Peel Public Health, York Region Public Health Services, Ottawa Public Health, Durham Region Health Department the five zones about reported 70% of the cases."
   ]
  },
  {
   "cell_type": "markdown",
   "metadata": {
    "id": "VT6FqRTBfvl9"
   },
   "source": [
    "#4. **Data Enriching**"
   ]
  },
  {
   "cell_type": "code",
   "execution_count": 10,
   "metadata": {
    "colab": {
     "base_uri": "https://localhost:8080/",
     "height": 943
    },
    "id": "dNcGUHmQfvl9",
    "outputId": "db6507c2-e262-4693-a7f1-b0c61bc1e34a"
   },
   "outputs": [
    {
     "name": "stderr",
     "output_type": "stream",
     "text": [
      "<ipython-input-10-daae5ec85c6f>:2: SettingWithCopyWarning: \n",
      "A value is trying to be set on a copy of a slice from a DataFrame.\n",
      "Try using .loc[row_indexer,col_indexer] = value instead\n",
      "\n",
      "See the caveats in the documentation: https://pandas.pydata.org/pandas-docs/stable/user_guide/indexing.html#returning-a-view-versus-a-copy\n",
      "  data['month'] = pd.DatetimeIndex(data['date_reported']).month\n",
      "<ipython-input-10-daae5ec85c6f>:3: SettingWithCopyWarning: \n",
      "A value is trying to be set on a copy of a slice from a DataFrame.\n",
      "Try using .loc[row_indexer,col_indexer] = value instead\n",
      "\n",
      "See the caveats in the documentation: https://pandas.pydata.org/pandas-docs/stable/user_guide/indexing.html#returning-a-view-versus-a-copy\n",
      "  data['week'] = pd.DatetimeIndex(data['date_reported']).week\n",
      "<ipython-input-10-daae5ec85c6f>:4: SettingWithCopyWarning: \n",
      "A value is trying to be set on a copy of a slice from a DataFrame.\n",
      "Try using .loc[row_indexer,col_indexer] = value instead\n",
      "\n",
      "See the caveats in the documentation: https://pandas.pydata.org/pandas-docs/stable/user_guide/indexing.html#returning-a-view-versus-a-copy\n",
      "  data['weekday'] = pd.DatetimeIndex(data['date_reported']).weekday\n"
     ]
    },
    {
     "data": {
      "text/html": [
       "<div>\n",
       "<style scoped>\n",
       "    .dataframe tbody tr th:only-of-type {\n",
       "        vertical-align: middle;\n",
       "    }\n",
       "\n",
       "    .dataframe tbody tr th {\n",
       "        vertical-align: top;\n",
       "    }\n",
       "\n",
       "    .dataframe thead th {\n",
       "        text-align: right;\n",
       "    }\n",
       "</style>\n",
       "<table border=\"1\" class=\"dataframe\">\n",
       "  <thead>\n",
       "    <tr style=\"text-align: right;\">\n",
       "      <th></th>\n",
       "      <th>ObjectId</th>\n",
       "      <th>row_id</th>\n",
       "      <th>date_reported</th>\n",
       "      <th>health_region</th>\n",
       "      <th>age_group</th>\n",
       "      <th>gender</th>\n",
       "      <th>exposure</th>\n",
       "      <th>case_status</th>\n",
       "      <th>latitude</th>\n",
       "      <th>longitude</th>\n",
       "      <th>province</th>\n",
       "      <th>province_abbr</th>\n",
       "      <th>hr_uid</th>\n",
       "      <th>month</th>\n",
       "      <th>week</th>\n",
       "      <th>weekday</th>\n",
       "    </tr>\n",
       "  </thead>\n",
       "  <tbody>\n",
       "    <tr>\n",
       "      <th>0</th>\n",
       "      <td>1</td>\n",
       "      <td>500</td>\n",
       "      <td>2020/10/05 12:00:00</td>\n",
       "      <td>Grey Bruce Health Unit</td>\n",
       "      <td>40-49</td>\n",
       "      <td>Female</td>\n",
       "      <td>Not Reported</td>\n",
       "      <td>Recovered</td>\n",
       "      <td>44.408279</td>\n",
       "      <td>-81.008611</td>\n",
       "      <td>Ontario</td>\n",
       "      <td>ON</td>\n",
       "      <td>3533.0</td>\n",
       "      <td>10</td>\n",
       "      <td>41</td>\n",
       "      <td>0</td>\n",
       "    </tr>\n",
       "    <tr>\n",
       "      <th>1</th>\n",
       "      <td>2</td>\n",
       "      <td>501</td>\n",
       "      <td>2020/11/27 12:00:00</td>\n",
       "      <td>York Region Public Health Services</td>\n",
       "      <td>40-49</td>\n",
       "      <td>Female</td>\n",
       "      <td>Outbreak</td>\n",
       "      <td>Active</td>\n",
       "      <td>44.074977</td>\n",
       "      <td>-79.428212</td>\n",
       "      <td>Ontario</td>\n",
       "      <td>ON</td>\n",
       "      <td>3570.0</td>\n",
       "      <td>11</td>\n",
       "      <td>48</td>\n",
       "      <td>4</td>\n",
       "    </tr>\n",
       "    <tr>\n",
       "      <th>2</th>\n",
       "      <td>3</td>\n",
       "      <td>502</td>\n",
       "      <td>2020/11/27 12:00:00</td>\n",
       "      <td>Peel Public Health</td>\n",
       "      <td>50-59</td>\n",
       "      <td>Male</td>\n",
       "      <td>Not Reported</td>\n",
       "      <td>Active</td>\n",
       "      <td>43.761613</td>\n",
       "      <td>-79.813571</td>\n",
       "      <td>Ontario</td>\n",
       "      <td>ON</td>\n",
       "      <td>3553.0</td>\n",
       "      <td>11</td>\n",
       "      <td>48</td>\n",
       "      <td>4</td>\n",
       "    </tr>\n",
       "    <tr>\n",
       "      <th>3</th>\n",
       "      <td>4</td>\n",
       "      <td>503</td>\n",
       "      <td>2020/11/16 12:00:00</td>\n",
       "      <td>Peel Public Health</td>\n",
       "      <td>40-49</td>\n",
       "      <td>Female</td>\n",
       "      <td>Close Contact</td>\n",
       "      <td>Recovered</td>\n",
       "      <td>43.761613</td>\n",
       "      <td>-79.813571</td>\n",
       "      <td>Ontario</td>\n",
       "      <td>ON</td>\n",
       "      <td>3553.0</td>\n",
       "      <td>11</td>\n",
       "      <td>47</td>\n",
       "      <td>0</td>\n",
       "    </tr>\n",
       "    <tr>\n",
       "      <th>4</th>\n",
       "      <td>5</td>\n",
       "      <td>504</td>\n",
       "      <td>2020/11/30 12:00:00</td>\n",
       "      <td>Windsor-Essex County Health Unit</td>\n",
       "      <td>40-49</td>\n",
       "      <td>Male</td>\n",
       "      <td>Close Contact</td>\n",
       "      <td>Active</td>\n",
       "      <td>42.156423</td>\n",
       "      <td>-82.777533</td>\n",
       "      <td>Ontario</td>\n",
       "      <td>ON</td>\n",
       "      <td>3568.0</td>\n",
       "      <td>11</td>\n",
       "      <td>49</td>\n",
       "      <td>0</td>\n",
       "    </tr>\n",
       "  </tbody>\n",
       "</table>\n",
       "</div>"
      ],
      "text/plain": [
       "   ObjectId  row_id        date_reported                       health_region  \\\n",
       "0         1     500  2020/10/05 12:00:00              Grey Bruce Health Unit   \n",
       "1         2     501  2020/11/27 12:00:00  York Region Public Health Services   \n",
       "2         3     502  2020/11/27 12:00:00                  Peel Public Health   \n",
       "3         4     503  2020/11/16 12:00:00                  Peel Public Health   \n",
       "4         5     504  2020/11/30 12:00:00    Windsor-Essex County Health Unit   \n",
       "\n",
       "  age_group  gender       exposure case_status   latitude  longitude province  \\\n",
       "0     40-49  Female   Not Reported   Recovered  44.408279 -81.008611  Ontario   \n",
       "1     40-49  Female       Outbreak      Active  44.074977 -79.428212  Ontario   \n",
       "2     50-59    Male   Not Reported      Active  43.761613 -79.813571  Ontario   \n",
       "3     40-49  Female  Close Contact   Recovered  43.761613 -79.813571  Ontario   \n",
       "4     40-49    Male  Close Contact      Active  42.156423 -82.777533  Ontario   \n",
       "\n",
       "  province_abbr  hr_uid  month  week  weekday  \n",
       "0            ON  3533.0     10    41        0  \n",
       "1            ON  3570.0     11    48        4  \n",
       "2            ON  3553.0     11    48        4  \n",
       "3            ON  3553.0     11    47        0  \n",
       "4            ON  3568.0     11    49        0  "
      ]
     },
     "execution_count": 10,
     "metadata": {},
     "output_type": "execute_result"
    }
   ],
   "source": [
    "#4.1\n",
    "data['month'] = pd.DatetimeIndex(data['date_reported']).month\n",
    "data['week'] = pd.DatetimeIndex(data['date_reported']).week\n",
    "data['weekday'] = pd.DatetimeIndex(data['date_reported']).weekday\n",
    "data.head(5)"
   ]
  },
  {
   "cell_type": "markdown",
   "metadata": {
    "id": "N_zMftaYfvl-"
   },
   "source": [
    "#5. **Data Encoding**"
   ]
  },
  {
   "cell_type": "code",
   "execution_count": 11,
   "metadata": {
    "colab": {
     "base_uri": "https://localhost:8080/",
     "height": 679
    },
    "id": "mnXxYy0Qfvl_",
    "outputId": "e5863d84-ab1e-4d1b-dae4-86625b101550",
    "scrolled": true
   },
   "outputs": [
    {
     "name": "stderr",
     "output_type": "stream",
     "text": [
      "/Users/bee/opt/anaconda3/lib/python3.8/site-packages/pandas/core/frame.py:2963: SettingWithCopyWarning: \n",
      "A value is trying to be set on a copy of a slice from a DataFrame.\n",
      "Try using .loc[row_indexer,col_indexer] = value instead\n",
      "\n",
      "See the caveats in the documentation: https://pandas.pydata.org/pandas-docs/stable/user_guide/indexing.html#returning-a-view-versus-a-copy\n",
      "  self[k1] = value[k2]\n"
     ]
    },
    {
     "data": {
      "text/html": [
       "<div>\n",
       "<style scoped>\n",
       "    .dataframe tbody tr th:only-of-type {\n",
       "        vertical-align: middle;\n",
       "    }\n",
       "\n",
       "    .dataframe tbody tr th {\n",
       "        vertical-align: top;\n",
       "    }\n",
       "\n",
       "    .dataframe thead th {\n",
       "        text-align: right;\n",
       "    }\n",
       "</style>\n",
       "<table border=\"1\" class=\"dataframe\">\n",
       "  <thead>\n",
       "    <tr style=\"text-align: right;\">\n",
       "      <th></th>\n",
       "      <th>ObjectId</th>\n",
       "      <th>row_id</th>\n",
       "      <th>latitude</th>\n",
       "      <th>longitude</th>\n",
       "      <th>hr_uid</th>\n",
       "      <th>month</th>\n",
       "      <th>week</th>\n",
       "      <th>weekday</th>\n",
       "      <th>gender_label</th>\n",
       "      <th>age_group_label</th>\n",
       "      <th>case_status_label</th>\n",
       "    </tr>\n",
       "  </thead>\n",
       "  <tbody>\n",
       "    <tr>\n",
       "      <th>count</th>\n",
       "      <td>127291.000000</td>\n",
       "      <td>127291.000000</td>\n",
       "      <td>127291.000000</td>\n",
       "      <td>127291.000000</td>\n",
       "      <td>127291.000000</td>\n",
       "      <td>127291.000000</td>\n",
       "      <td>127291.000000</td>\n",
       "      <td>127291.000000</td>\n",
       "      <td>127291.000000</td>\n",
       "      <td>127291.000000</td>\n",
       "      <td>127291.000000</td>\n",
       "    </tr>\n",
       "    <tr>\n",
       "      <th>mean</th>\n",
       "      <td>63660.527649</td>\n",
       "      <td>63656.572366</td>\n",
       "      <td>43.859251</td>\n",
       "      <td>-79.473906</td>\n",
       "      <td>3567.281921</td>\n",
       "      <td>8.554179</td>\n",
       "      <td>35.916333</td>\n",
       "      <td>2.849824</td>\n",
       "      <td>0.500027</td>\n",
       "      <td>2.843210</td>\n",
       "      <td>1.726155</td>\n",
       "    </tr>\n",
       "    <tr>\n",
       "      <th>std</th>\n",
       "      <td>36754.947677</td>\n",
       "      <td>36749.850754</td>\n",
       "      <td>0.835749</td>\n",
       "      <td>1.478321</td>\n",
       "      <td>22.019201</td>\n",
       "      <td>2.811971</td>\n",
       "      <td>12.267795</td>\n",
       "      <td>1.976186</td>\n",
       "      <td>0.511758</td>\n",
       "      <td>2.368779</td>\n",
       "      <td>0.665635</td>\n",
       "    </tr>\n",
       "    <tr>\n",
       "      <th>min</th>\n",
       "      <td>1.000000</td>\n",
       "      <td>0.000000</td>\n",
       "      <td>42.156423</td>\n",
       "      <td>-92.553456</td>\n",
       "      <td>3526.000000</td>\n",
       "      <td>1.000000</td>\n",
       "      <td>1.000000</td>\n",
       "      <td>0.000000</td>\n",
       "      <td>0.000000</td>\n",
       "      <td>0.000000</td>\n",
       "      <td>0.000000</td>\n",
       "    </tr>\n",
       "    <tr>\n",
       "      <th>25%</th>\n",
       "      <td>31830.500000</td>\n",
       "      <td>31829.500000</td>\n",
       "      <td>43.725845</td>\n",
       "      <td>-79.813571</td>\n",
       "      <td>3553.000000</td>\n",
       "      <td>6.000000</td>\n",
       "      <td>23.000000</td>\n",
       "      <td>1.000000</td>\n",
       "      <td>0.000000</td>\n",
       "      <td>1.000000</td>\n",
       "      <td>2.000000</td>\n",
       "    </tr>\n",
       "    <tr>\n",
       "      <th>50%</th>\n",
       "      <td>63659.000000</td>\n",
       "      <td>63658.000000</td>\n",
       "      <td>43.725845</td>\n",
       "      <td>-79.428212</td>\n",
       "      <td>3565.000000</td>\n",
       "      <td>10.000000</td>\n",
       "      <td>41.000000</td>\n",
       "      <td>3.000000</td>\n",
       "      <td>0.000000</td>\n",
       "      <td>2.000000</td>\n",
       "      <td>2.000000</td>\n",
       "    </tr>\n",
       "    <tr>\n",
       "      <th>75%</th>\n",
       "      <td>95483.500000</td>\n",
       "      <td>95482.500000</td>\n",
       "      <td>44.035150</td>\n",
       "      <td>-79.389558</td>\n",
       "      <td>3595.000000</td>\n",
       "      <td>11.000000</td>\n",
       "      <td>46.000000</td>\n",
       "      <td>5.000000</td>\n",
       "      <td>1.000000</td>\n",
       "      <td>5.000000</td>\n",
       "      <td>2.000000</td>\n",
       "    </tr>\n",
       "    <tr>\n",
       "      <th>max</th>\n",
       "      <td>127500.000000</td>\n",
       "      <td>127308.000000</td>\n",
       "      <td>52.397247</td>\n",
       "      <td>-74.952579</td>\n",
       "      <td>3595.000000</td>\n",
       "      <td>12.000000</td>\n",
       "      <td>49.000000</td>\n",
       "      <td>6.000000</td>\n",
       "      <td>2.000000</td>\n",
       "      <td>7.000000</td>\n",
       "      <td>2.000000</td>\n",
       "    </tr>\n",
       "  </tbody>\n",
       "</table>\n",
       "</div>"
      ],
      "text/plain": [
       "            ObjectId         row_id       latitude      longitude  \\\n",
       "count  127291.000000  127291.000000  127291.000000  127291.000000   \n",
       "mean    63660.527649   63656.572366      43.859251     -79.473906   \n",
       "std     36754.947677   36749.850754       0.835749       1.478321   \n",
       "min         1.000000       0.000000      42.156423     -92.553456   \n",
       "25%     31830.500000   31829.500000      43.725845     -79.813571   \n",
       "50%     63659.000000   63658.000000      43.725845     -79.428212   \n",
       "75%     95483.500000   95482.500000      44.035150     -79.389558   \n",
       "max    127500.000000  127308.000000      52.397247     -74.952579   \n",
       "\n",
       "              hr_uid          month           week        weekday  \\\n",
       "count  127291.000000  127291.000000  127291.000000  127291.000000   \n",
       "mean     3567.281921       8.554179      35.916333       2.849824   \n",
       "std        22.019201       2.811971      12.267795       1.976186   \n",
       "min      3526.000000       1.000000       1.000000       0.000000   \n",
       "25%      3553.000000       6.000000      23.000000       1.000000   \n",
       "50%      3565.000000      10.000000      41.000000       3.000000   \n",
       "75%      3595.000000      11.000000      46.000000       5.000000   \n",
       "max      3595.000000      12.000000      49.000000       6.000000   \n",
       "\n",
       "        gender_label  age_group_label  case_status_label  \n",
       "count  127291.000000    127291.000000      127291.000000  \n",
       "mean        0.500027         2.843210           1.726155  \n",
       "std         0.511758         2.368779           0.665635  \n",
       "min         0.000000         0.000000           0.000000  \n",
       "25%         0.000000         1.000000           2.000000  \n",
       "50%         0.000000         2.000000           2.000000  \n",
       "75%         1.000000         5.000000           2.000000  \n",
       "max         2.000000         7.000000           2.000000  "
      ]
     },
     "execution_count": 11,
     "metadata": {},
     "output_type": "execute_result"
    }
   ],
   "source": [
    "#5.1\n",
    "#Encode \"gender, age_group and case_status\" columns:\n",
    "le = LabelEncoder()\n",
    "data[['gender_label', 'age_group_label', 'case_status_label']] = data[['gender', 'age_group', 'case_status']].apply(le.fit_transform)\n",
    "\n",
    "data.describe()\n"
   ]
  },
  {
   "cell_type": "code",
   "execution_count": 12,
   "metadata": {
    "colab": {
     "base_uri": "https://localhost:8080/"
    },
    "id": "qrdJNE246hRR",
    "outputId": "c064eec0-bda2-49b9-fdb1-1f4bdf852bae"
   },
   "outputs": [
    {
     "name": "stderr",
     "output_type": "stream",
     "text": [
      "UsageError: Line magic function `%5.2` not found.\n"
     ]
    }
   ],
   "source": [
    "%5.2\n",
    "# Let us remove the special char from age_group for better anlysis \n",
    "#data['age_group'] = data['age_group'].replace(['<20'], '0-20') \n",
    "data.replace(to_replace = '<20', value=\"0-19\",inplace = True)\n"
   ]
  },
  {
   "cell_type": "code",
   "execution_count": 13,
   "metadata": {
    "colab": {
     "base_uri": "https://localhost:8080/"
    },
    "id": "Bx4dYeIqMQ1f",
    "outputId": "cb311540-abf8-4cb2-a602-e64833f0f9f0"
   },
   "outputs": [
    {
     "data": {
      "text/plain": [
       "20-29    0.209999\n",
       "30-39    0.156170\n",
       "50-59    0.145407\n",
       "40-49    0.141031\n",
       "<20      0.122247\n",
       "60-69    0.093463\n",
       "80+      0.080760\n",
       "70-79    0.050923\n",
       "Name: age_group, dtype: float64"
      ]
     },
     "execution_count": 13,
     "metadata": {},
     "output_type": "execute_result"
    }
   ],
   "source": [
    "#5.3\n",
    "data['age_group'].value_counts(normalize=True)"
   ]
  },
  {
   "cell_type": "markdown",
   "metadata": {
    "id": "aOhDqAYvhSpG"
   },
   "source": [
    "#6. **Data Analsis**"
   ]
  },
  {
   "cell_type": "markdown",
   "metadata": {
    "id": "7IzkimPTfvl_"
   },
   "source": [
    "###6.1 ***Death against Age Group***\n"
   ]
  },
  {
   "cell_type": "code",
   "execution_count": 14,
   "metadata": {
    "colab": {
     "base_uri": "https://localhost:8080/",
     "height": 281
    },
    "id": "Ag4gsLsJfvmB",
    "outputId": "7c2eaec7-7d9f-448f-85b1-a608a7545da8"
   },
   "outputs": [
    {
     "data": {
      "image/png": "[encoded data removed]",
      "text/plain": [
       "<Figure size 432x288 with 1 Axes>"
      ]
     },
     "metadata": {
      "needs_background": "light"
     },
     "output_type": "display_data"
    }
   ],
   "source": [
    "#6.1.1\n",
    "#Plot a histogram showing the no. of deaths by age group\n",
    "death = data.loc[(data['case_status'] == \"Deceased\") & (data['age_group'] != \"Not Reported\")]\n",
    "plt.hist(death['age_group'])\n",
    "plt.title(\"Figure-1: Death vs Age Group\")\n",
    "round(death['age_group'].value_counts()/death['age_group'].count()*100, 2); #rounding the data for better visiulizaton "
   ]
  },
  {
   "cell_type": "markdown",
   "metadata": {
    "id": "N857CHqEfvmB"
   },
   "source": [
    "#### **Observation:**\n",
    "\n",
    "One of our main objectives is to minimize deaths.  According to our analysis results as seen above, 98.84% of deaths are for people above the age of 50.  This shows us that vaccinations should focus on elderly people starting with the most elderly."
   ]
  },
  {
   "cell_type": "markdown",
   "metadata": {
    "id": "QNQpKulsjL4H"
   },
   "source": [
    "###6.2 ***Gender and Age Group vs Mortality Rate***"
   ]
  },
  {
   "cell_type": "code",
   "execution_count": 1,
   "metadata": {
    "colab": {
     "base_uri": "https://localhost:8080/",
     "height": 365
    },
    "id": "3Vk625DSfvmC",
    "outputId": "a16f6b30-f1d8-447a-b921-b7f342cb8738"
   },
   "outputs": [],
   "source": [
    "#6.2.1\n",
    "#Depict age group and gender of people who died in the panademic\n",
    "#d = death[['age_group','gender']].loc[(death['gender'] != \"Not Reported\")]\n",
    "#c = d.value_counts(['gender','age_group']) \n",
    "#c.plot(kind = 'bar', title = \"Figure-2 : No. of deaths by gender and age group \");\n",
    "\n"
   ]
  },
  {
   "cell_type": "code",
   "execution_count": 56,
   "metadata": {
    "colab": {
     "base_uri": "https://localhost:8080/",
     "height": 314
    },
    "id": "va7gJvIQfvmD",
    "outputId": "93fe9991-55b8-4089-8cdb-c29b68e58b73"
   },
   "outputs": [
    {
     "data": {
      "image/png": "[encoded data removed]",
      "text/plain": [
       "<Figure size 432x288 with 1 Axes>"
      ]
     },
     "metadata": {
      "needs_background": "light"
     },
     "output_type": "display_data"
    }
   ],
   "source": [
    "#6.2.2\n",
    "#Pivot age and gender information\n",
    "Gender_Analysis = pd.crosstab(index=death[\"age_group\"], columns=death[\"gender\"], values=death[\"case_status\"], aggfunc=\"count\").round(1) #crosstab helps us pivot the data\n",
    "Gender_Analysis.plot(kind = 'bar', title = \"Figure-3 : Gender by age group death count\");"
   ]
  },
  {
   "cell_type": "markdown",
   "metadata": {
    "id": "e4giv8YaAhKb"
   },
   "source": [
    "**Observation**: The number of Female deaths is significantly higher than Male in agegroups over 80. However the pattren is reversed in other age gorups. "
   ]
  },
  {
   "cell_type": "code",
   "execution_count": 17,
   "metadata": {
    "colab": {
     "base_uri": "https://localhost:8080/"
    },
    "id": "izD0CipavT81",
    "outputId": "466fa4a1-27da-4ed4-9346-da23f960db88"
   },
   "outputs": [
    {
     "data": {
      "text/plain": [
       "Female          0.505920\n",
       "Male            0.488133\n",
       "Not Reported    0.005947\n",
       "Name: gender, dtype: float64"
      ]
     },
     "execution_count": 17,
     "metadata": {},
     "output_type": "execute_result"
    }
   ],
   "source": [
    "#6.2.3\n",
    "data['gender'].value_counts(normalize=True)\n"
   ]
  },
  {
   "cell_type": "code",
   "execution_count": 18,
   "metadata": {
    "colab": {
     "base_uri": "https://localhost:8080/",
     "height": 824
    },
    "id": "kopTofuMwatd",
    "outputId": "5f4ca2b6-a218-41f0-9a88-543260f12874"
   },
   "outputs": [
    {
     "data": {
      "text/html": [
       "<div>\n",
       "<style scoped>\n",
       "    .dataframe tbody tr th:only-of-type {\n",
       "        vertical-align: middle;\n",
       "    }\n",
       "\n",
       "    .dataframe tbody tr th {\n",
       "        vertical-align: top;\n",
       "    }\n",
       "\n",
       "    .dataframe thead th {\n",
       "        text-align: right;\n",
       "    }\n",
       "</style>\n",
       "<table border=\"1\" class=\"dataframe\">\n",
       "  <thead>\n",
       "    <tr style=\"text-align: right;\">\n",
       "      <th></th>\n",
       "      <th></th>\n",
       "      <th>count</th>\n",
       "    </tr>\n",
       "    <tr>\n",
       "      <th>age_group</th>\n",
       "      <th>gender</th>\n",
       "      <th></th>\n",
       "    </tr>\n",
       "  </thead>\n",
       "  <tbody>\n",
       "    <tr>\n",
       "      <th rowspan=\"3\" valign=\"top\">20-29</th>\n",
       "      <th>Female</th>\n",
       "      <td>9.85</td>\n",
       "    </tr>\n",
       "    <tr>\n",
       "      <th>Male</th>\n",
       "      <td>11.03</td>\n",
       "    </tr>\n",
       "    <tr>\n",
       "      <th>Not Reported</th>\n",
       "      <td>0.13</td>\n",
       "    </tr>\n",
       "    <tr>\n",
       "      <th rowspan=\"3\" valign=\"top\">30-39</th>\n",
       "      <th>Female</th>\n",
       "      <td>7.54</td>\n",
       "    </tr>\n",
       "    <tr>\n",
       "      <th>Male</th>\n",
       "      <td>7.99</td>\n",
       "    </tr>\n",
       "    <tr>\n",
       "      <th>Not Reported</th>\n",
       "      <td>0.08</td>\n",
       "    </tr>\n",
       "    <tr>\n",
       "      <th rowspan=\"3\" valign=\"top\">40-49</th>\n",
       "      <th>Female</th>\n",
       "      <td>7.39</td>\n",
       "    </tr>\n",
       "    <tr>\n",
       "      <th>Male</th>\n",
       "      <td>6.61</td>\n",
       "    </tr>\n",
       "    <tr>\n",
       "      <th>Not Reported</th>\n",
       "      <td>0.09</td>\n",
       "    </tr>\n",
       "    <tr>\n",
       "      <th rowspan=\"3\" valign=\"top\">50-59</th>\n",
       "      <th>Female</th>\n",
       "      <td>7.61</td>\n",
       "    </tr>\n",
       "    <tr>\n",
       "      <th>Male</th>\n",
       "      <td>6.86</td>\n",
       "    </tr>\n",
       "    <tr>\n",
       "      <th>Not Reported</th>\n",
       "      <td>0.07</td>\n",
       "    </tr>\n",
       "    <tr>\n",
       "      <th rowspan=\"3\" valign=\"top\">60-69</th>\n",
       "      <th>Female</th>\n",
       "      <td>4.48</td>\n",
       "    </tr>\n",
       "    <tr>\n",
       "      <th>Male</th>\n",
       "      <td>4.83</td>\n",
       "    </tr>\n",
       "    <tr>\n",
       "      <th>Not Reported</th>\n",
       "      <td>0.03</td>\n",
       "    </tr>\n",
       "    <tr>\n",
       "      <th rowspan=\"3\" valign=\"top\">70-79</th>\n",
       "      <th>Female</th>\n",
       "      <td>2.53</td>\n",
       "    </tr>\n",
       "    <tr>\n",
       "      <th>Male</th>\n",
       "      <td>2.53</td>\n",
       "    </tr>\n",
       "    <tr>\n",
       "      <th>Not Reported</th>\n",
       "      <td>0.03</td>\n",
       "    </tr>\n",
       "    <tr>\n",
       "      <th rowspan=\"3\" valign=\"top\">80+</th>\n",
       "      <th>Female</th>\n",
       "      <td>5.38</td>\n",
       "    </tr>\n",
       "    <tr>\n",
       "      <th>Male</th>\n",
       "      <td>2.62</td>\n",
       "    </tr>\n",
       "    <tr>\n",
       "      <th>Not Reported</th>\n",
       "      <td>0.08</td>\n",
       "    </tr>\n",
       "    <tr>\n",
       "      <th rowspan=\"3\" valign=\"top\">&lt;20</th>\n",
       "      <th>Female</th>\n",
       "      <td>5.80</td>\n",
       "    </tr>\n",
       "    <tr>\n",
       "      <th>Male</th>\n",
       "      <td>6.33</td>\n",
       "    </tr>\n",
       "    <tr>\n",
       "      <th>Not Reported</th>\n",
       "      <td>0.09</td>\n",
       "    </tr>\n",
       "  </tbody>\n",
       "</table>\n",
       "</div>"
      ],
      "text/plain": [
       "                        count\n",
       "age_group gender             \n",
       "20-29     Female         9.85\n",
       "          Male          11.03\n",
       "          Not Reported   0.13\n",
       "30-39     Female         7.54\n",
       "          Male           7.99\n",
       "          Not Reported   0.08\n",
       "40-49     Female         7.39\n",
       "          Male           6.61\n",
       "          Not Reported   0.09\n",
       "50-59     Female         7.61\n",
       "          Male           6.86\n",
       "          Not Reported   0.07\n",
       "60-69     Female         4.48\n",
       "          Male           4.83\n",
       "          Not Reported   0.03\n",
       "70-79     Female         2.53\n",
       "          Male           2.53\n",
       "          Not Reported   0.03\n",
       "80+       Female         5.38\n",
       "          Male           2.62\n",
       "          Not Reported   0.08\n",
       "<20       Female         5.80\n",
       "          Male           6.33\n",
       "          Not Reported   0.09"
      ]
     },
     "execution_count": 18,
     "metadata": {},
     "output_type": "execute_result"
    }
   ],
   "source": [
    "#6.2.4\n",
    "round(data.groupby(['age_group', 'gender'])['gender'].agg(['count'])/data.shape[0]*100, 2)"
   ]
  },
  {
   "cell_type": "markdown",
   "metadata": {
    "id": "wvUNcQXTwJea"
   },
   "source": [
    "**Observation**: Data is normally destributed among all age groups however for data for age group over 80 there are more than double number of females affected by Covid-19. "
   ]
  },
  {
   "cell_type": "code",
   "execution_count": 2,
   "metadata": {
    "colab": {
     "base_uri": "https://localhost:8080/",
     "height": 477
    },
    "id": "4ADAGGMqwIgj",
    "outputId": "6d493c8d-b600-4fb2-fae1-334e81f6a1af"
   },
   "outputs": [],
   "source": [
    "#6.2.5\n",
    "population_data=pd.read_csv('ON_Population_By_AGE_Gorups.csv')\n",
    "population_data.head()\n"
   ]
  },
  {
   "cell_type": "code",
   "execution_count": null,
   "metadata": {
    "id": "4QctQKgE7Fdo"
   },
   "outputs": [],
   "source": [
    "#6.2.6\n",
    "total_on_polulation = population_data.VALUE.sum()"
   ]
  },
  {
   "cell_type": "code",
   "execution_count": null,
   "metadata": {
    "id": "qo0Ms69J43WB"
   },
   "outputs": [],
   "source": [
    "#6.2.7\n",
    "round(population_data.groupby(['Age group', 'Sex'])['VALUE'].agg(['sum']) / total_on_polulation * 100, 2)"
   ]
  },
  {
   "cell_type": "markdown",
   "metadata": {
    "id": "GHhlbYyMCdWr"
   },
   "source": [
    "**Observation**: We can see there are signifecantly higher number of Female Population than Male Polulation in the age group over 80. "
   ]
  },
  {
   "cell_type": "markdown",
   "metadata": {
    "id": "ubHHW4aN-Cyv"
   },
   "source": [
    "**Conclusion**: By comparing the population size we can confirm the reason for higher death rates in females age over 80 is the higher female population in that age group. And in the lower age groups despite having almost similar population distribution death rate in Male population is significantly higher.\n"
   ]
  },
  {
   "cell_type": "markdown",
   "metadata": {
    "id": "pHYf57zo3dTM"
   },
   "source": [
    "####6.3 ***Mortality rate related visualizations***"
   ]
  },
  {
   "cell_type": "markdown",
   "metadata": {
    "id": "GXgSQniVjfZF"
   },
   "source": [
    "*Let's plot the map of Ontario so that we can visualize the results of our analysis on the go!*"
   ]
  },
  {
   "cell_type": "code",
   "execution_count": 19,
   "metadata": {
    "id": "HWMk8OMejfZG"
   },
   "outputs": [
    {
     "data": {
      "image/png": "[encoded data removed]",
      "text/plain": [
       "<Figure size 432x288 with 1 Axes>"
      ]
     },
     "metadata": {
      "needs_background": "light"
     },
     "output_type": "display_data"
    }
   ],
   "source": [
    "#6.3.1\n",
    "#Plot the map of Canada from the respective .shp file\n",
    "canada_map = gpd.read_file('lpr_000b16a_e.shp')\n",
    "canada_map.loc[:, 'geometry'].plot();"
   ]
  },
  {
   "cell_type": "code",
   "execution_count": 20,
   "metadata": {
    "id": "waFdZqQwjfZH"
   },
   "outputs": [
    {
     "data": {
      "image/png": "[encoded data removed]",
      "text/plain": [
       "<Figure size 432x288 with 1 Axes>"
      ]
     },
     "metadata": {
      "needs_background": "light"
     },
     "output_type": "display_data"
    }
   ],
   "source": [
    "#6.3.2\n",
    "#Convert it to the right CRS\n",
    "province_label_map = canada_map.to_crs({'proj':'longlat', 'ellps':'WGS84', 'datum':'WGS84'})\n",
    "province_label_map.plot();"
   ]
  },
  {
   "cell_type": "code",
   "execution_count": 21,
   "metadata": {
    "id": "E6AJajKDjfZH"
   },
   "outputs": [
    {
     "data": {
      "text/html": [
       "<div>\n",
       "<style scoped>\n",
       "    .dataframe tbody tr th:only-of-type {\n",
       "        vertical-align: middle;\n",
       "    }\n",
       "\n",
       "    .dataframe tbody tr th {\n",
       "        vertical-align: top;\n",
       "    }\n",
       "\n",
       "    .dataframe thead th {\n",
       "        text-align: right;\n",
       "    }\n",
       "</style>\n",
       "<table border=\"1\" class=\"dataframe\">\n",
       "  <thead>\n",
       "    <tr style=\"text-align: right;\">\n",
       "      <th></th>\n",
       "      <th>PRUID</th>\n",
       "      <th>PRNAME</th>\n",
       "      <th>PRENAME</th>\n",
       "      <th>PRFNAME</th>\n",
       "      <th>PREABBR</th>\n",
       "      <th>PRFABBR</th>\n",
       "      <th>geometry</th>\n",
       "    </tr>\n",
       "  </thead>\n",
       "  <tbody>\n",
       "    <tr>\n",
       "      <th>0</th>\n",
       "      <td>10</td>\n",
       "      <td>Newfoundland and Labrador / Terre-Neuve-et-Lab...</td>\n",
       "      <td>Newfoundland and Labrador</td>\n",
       "      <td>Terre-Neuve-et-Labrador</td>\n",
       "      <td>N.L.</td>\n",
       "      <td>T.-N.-L.</td>\n",
       "      <td>MULTIPOLYGON (((-57.40258 54.14964, -57.38431 ...</td>\n",
       "    </tr>\n",
       "    <tr>\n",
       "      <th>1</th>\n",
       "      <td>11</td>\n",
       "      <td>Prince Edward Island / Île-du-Prince-Édouard</td>\n",
       "      <td>Prince Edward Island</td>\n",
       "      <td>Île-du-Prince-Édouard</td>\n",
       "      <td>P.E.I.</td>\n",
       "      <td>Î.-P.-É.</td>\n",
       "      <td>MULTIPOLYGON (((-61.98301 46.45775, -61.98137 ...</td>\n",
       "    </tr>\n",
       "    <tr>\n",
       "      <th>2</th>\n",
       "      <td>12</td>\n",
       "      <td>Nova Scotia / Nouvelle-Écosse</td>\n",
       "      <td>Nova Scotia</td>\n",
       "      <td>Nouvelle-Écosse</td>\n",
       "      <td>N.S.</td>\n",
       "      <td>N.-É.</td>\n",
       "      <td>MULTIPOLYGON (((-61.90234 45.87878, -61.90057 ...</td>\n",
       "    </tr>\n",
       "    <tr>\n",
       "      <th>3</th>\n",
       "      <td>13</td>\n",
       "      <td>New Brunswick / Nouveau-Brunswick</td>\n",
       "      <td>New Brunswick</td>\n",
       "      <td>Nouveau-Brunswick</td>\n",
       "      <td>N.B.</td>\n",
       "      <td>N.-B.</td>\n",
       "      <td>MULTIPOLYGON (((-64.80155 47.80365, -64.80155 ...</td>\n",
       "    </tr>\n",
       "    <tr>\n",
       "      <th>4</th>\n",
       "      <td>24</td>\n",
       "      <td>Quebec / Québec</td>\n",
       "      <td>Quebec</td>\n",
       "      <td>Québec</td>\n",
       "      <td>Que.</td>\n",
       "      <td>Qc</td>\n",
       "      <td>MULTIPOLYGON (((-58.64702 51.20815, -58.63989 ...</td>\n",
       "    </tr>\n",
       "  </tbody>\n",
       "</table>\n",
       "</div>"
      ],
      "text/plain": [
       "  PRUID                                             PRNAME  \\\n",
       "0    10  Newfoundland and Labrador / Terre-Neuve-et-Lab...   \n",
       "1    11       Prince Edward Island / Île-du-Prince-Édouard   \n",
       "2    12                      Nova Scotia / Nouvelle-Écosse   \n",
       "3    13                  New Brunswick / Nouveau-Brunswick   \n",
       "4    24                                    Quebec / Québec   \n",
       "\n",
       "                     PRENAME                  PRFNAME PREABBR   PRFABBR  \\\n",
       "0  Newfoundland and Labrador  Terre-Neuve-et-Labrador    N.L.  T.-N.-L.   \n",
       "1       Prince Edward Island    Île-du-Prince-Édouard  P.E.I.  Î.-P.-É.   \n",
       "2                Nova Scotia          Nouvelle-Écosse    N.S.     N.-É.   \n",
       "3              New Brunswick        Nouveau-Brunswick    N.B.     N.-B.   \n",
       "4                     Quebec                   Québec    Que.        Qc   \n",
       "\n",
       "                                            geometry  \n",
       "0  MULTIPOLYGON (((-57.40258 54.14964, -57.38431 ...  \n",
       "1  MULTIPOLYGON (((-61.98301 46.45775, -61.98137 ...  \n",
       "2  MULTIPOLYGON (((-61.90234 45.87878, -61.90057 ...  \n",
       "3  MULTIPOLYGON (((-64.80155 47.80365, -64.80155 ...  \n",
       "4  MULTIPOLYGON (((-58.64702 51.20815, -58.63989 ...  "
      ]
     },
     "execution_count": 21,
     "metadata": {},
     "output_type": "execute_result"
    }
   ],
   "source": [
    "#6.3.3\n",
    "#Check the contents\n",
    "province_label_map.head()"
   ]
  },
  {
   "cell_type": "code",
   "execution_count": 22,
   "metadata": {
    "id": "xhXOlB-t29SF"
   },
   "outputs": [
    {
     "data": {
      "text/html": [
       "<div>\n",
       "<style scoped>\n",
       "    .dataframe tbody tr th:only-of-type {\n",
       "        vertical-align: middle;\n",
       "    }\n",
       "\n",
       "    .dataframe tbody tr th {\n",
       "        vertical-align: top;\n",
       "    }\n",
       "\n",
       "    .dataframe thead th {\n",
       "        text-align: right;\n",
       "    }\n",
       "</style>\n",
       "<table border=\"1\" class=\"dataframe\">\n",
       "  <thead>\n",
       "    <tr style=\"text-align: right;\">\n",
       "      <th></th>\n",
       "      <th>PRUID</th>\n",
       "      <th>PRNAME</th>\n",
       "      <th>PRENAME</th>\n",
       "      <th>PRFNAME</th>\n",
       "      <th>PREABBR</th>\n",
       "      <th>PRFABBR</th>\n",
       "      <th>geometry</th>\n",
       "    </tr>\n",
       "  </thead>\n",
       "  <tbody>\n",
       "    <tr>\n",
       "      <th>5</th>\n",
       "      <td>35</td>\n",
       "      <td>Ontario</td>\n",
       "      <td>Ontario</td>\n",
       "      <td>Ontario</td>\n",
       "      <td>Ont.</td>\n",
       "      <td>Ont.</td>\n",
       "      <td>MULTIPOLYGON (((-88.86612 56.84777, -88.86838 ...</td>\n",
       "    </tr>\n",
       "  </tbody>\n",
       "</table>\n",
       "</div>"
      ],
      "text/plain": [
       "  PRUID   PRNAME  PRENAME  PRFNAME PREABBR PRFABBR  \\\n",
       "5    35  Ontario  Ontario  Ontario    Ont.    Ont.   \n",
       "\n",
       "                                            geometry  \n",
       "5  MULTIPOLYGON (((-88.86612 56.84777, -88.86838 ...  "
      ]
     },
     "execution_count": 22,
     "metadata": {},
     "output_type": "execute_result"
    }
   ],
   "source": [
    "#6.3.4\n",
    "#Plot the map of Ontario:\n",
    "ontario_map = province_label_map\n",
    "ontario_map = ontario_map[ontario_map['PRENAME'] == 'Ontario']\n",
    "ontario_map"
   ]
  },
  {
   "cell_type": "code",
   "execution_count": 23,
   "metadata": {
    "id": "dnUoAPI63K86"
   },
   "outputs": [],
   "source": [
    "#6.3.5\n",
    "#Set geometry points for Ontario:\n",
    "ontario_map_points1 = ontario_map.copy()\n",
    "ontario_map_points1.set_geometry(ontario_map[\"geometry\"].representative_point(), inplace = True)"
   ]
  },
  {
   "cell_type": "markdown",
   "metadata": {
    "id": "oW2JfS7l4iVy"
   },
   "source": [
    "***6.4 COVID deaths by gender in \"Ontario\"***"
   ]
  },
  {
   "cell_type": "code",
   "execution_count": 24,
   "metadata": {
    "id": "uW-QWUUI8tpc"
   },
   "outputs": [
    {
     "data": {
      "text/plain": [
       "[<shapely.geometry.point.Point at 0x123893730>,\n",
       " <shapely.geometry.point.Point at 0x123893b50>,\n",
       " <shapely.geometry.point.Point at 0x119eb0c10>]"
      ]
     },
     "execution_count": 24,
     "metadata": {},
     "output_type": "execute_result"
    }
   ],
   "source": [
    "#6.4.1\n",
    "#Get points from the data set:\n",
    "geometry = [Point(xy) for xy in zip(death['longitude'], death['latitude'])]\n",
    "geometry[:3]"
   ]
  },
  {
   "cell_type": "code",
   "execution_count": 26,
   "metadata": {
    "id": "RHOMMb6D88eZ"
   },
   "outputs": [
    {
     "data": {
      "text/html": [
       "<div>\n",
       "<style scoped>\n",
       "    .dataframe tbody tr th:only-of-type {\n",
       "        vertical-align: middle;\n",
       "    }\n",
       "\n",
       "    .dataframe tbody tr th {\n",
       "        vertical-align: top;\n",
       "    }\n",
       "\n",
       "    .dataframe thead th {\n",
       "        text-align: right;\n",
       "    }\n",
       "</style>\n",
       "<table border=\"1\" class=\"dataframe\">\n",
       "  <thead>\n",
       "    <tr style=\"text-align: right;\">\n",
       "      <th></th>\n",
       "      <th>ObjectId</th>\n",
       "      <th>row_id</th>\n",
       "      <th>date_reported</th>\n",
       "      <th>health_region</th>\n",
       "      <th>age_group</th>\n",
       "      <th>gender</th>\n",
       "      <th>exposure</th>\n",
       "      <th>case_status</th>\n",
       "      <th>latitude</th>\n",
       "      <th>longitude</th>\n",
       "      <th>province</th>\n",
       "      <th>province_abbr</th>\n",
       "      <th>hr_uid</th>\n",
       "      <th>month</th>\n",
       "      <th>week</th>\n",
       "      <th>weekday</th>\n",
       "      <th>gender_label</th>\n",
       "      <th>age_group_label</th>\n",
       "      <th>case_status_label</th>\n",
       "      <th>geometry</th>\n",
       "    </tr>\n",
       "  </thead>\n",
       "  <tbody>\n",
       "    <tr>\n",
       "      <th>256</th>\n",
       "      <td>257</td>\n",
       "      <td>2227</td>\n",
       "      <td>2020/10/30 12:00:00</td>\n",
       "      <td>Simcoe Muskoka District Health Unit</td>\n",
       "      <td>80+</td>\n",
       "      <td>Male</td>\n",
       "      <td>Not Reported</td>\n",
       "      <td>Deceased</td>\n",
       "      <td>44.777755</td>\n",
       "      <td>-79.545773</td>\n",
       "      <td>Ontario</td>\n",
       "      <td>ON</td>\n",
       "      <td>3560.0</td>\n",
       "      <td>10</td>\n",
       "      <td>44</td>\n",
       "      <td>4</td>\n",
       "      <td>1</td>\n",
       "      <td>6</td>\n",
       "      <td>1</td>\n",
       "      <td>POINT (-79.54577 44.77775)</td>\n",
       "    </tr>\n",
       "    <tr>\n",
       "      <th>290</th>\n",
       "      <td>291</td>\n",
       "      <td>2261</td>\n",
       "      <td>2020/10/16 12:00:00</td>\n",
       "      <td>Eastern Ontario Health Unit</td>\n",
       "      <td>80+</td>\n",
       "      <td>Female</td>\n",
       "      <td>Outbreak</td>\n",
       "      <td>Deceased</td>\n",
       "      <td>45.273060</td>\n",
       "      <td>-74.952579</td>\n",
       "      <td>Ontario</td>\n",
       "      <td>ON</td>\n",
       "      <td>3558.0</td>\n",
       "      <td>10</td>\n",
       "      <td>42</td>\n",
       "      <td>4</td>\n",
       "      <td>0</td>\n",
       "      <td>6</td>\n",
       "      <td>1</td>\n",
       "      <td>POINT (-74.95258 45.27306)</td>\n",
       "    </tr>\n",
       "    <tr>\n",
       "      <th>335</th>\n",
       "      <td>336</td>\n",
       "      <td>2306</td>\n",
       "      <td>2020/10/19 12:00:00</td>\n",
       "      <td>Peel Public Health</td>\n",
       "      <td>80+</td>\n",
       "      <td>Male</td>\n",
       "      <td>Close Contact</td>\n",
       "      <td>Deceased</td>\n",
       "      <td>43.761613</td>\n",
       "      <td>-79.813571</td>\n",
       "      <td>Ontario</td>\n",
       "      <td>ON</td>\n",
       "      <td>3553.0</td>\n",
       "      <td>10</td>\n",
       "      <td>43</td>\n",
       "      <td>0</td>\n",
       "      <td>1</td>\n",
       "      <td>6</td>\n",
       "      <td>1</td>\n",
       "      <td>POINT (-79.81357 43.76161)</td>\n",
       "    </tr>\n",
       "    <tr>\n",
       "      <th>445</th>\n",
       "      <td>446</td>\n",
       "      <td>2416</td>\n",
       "      <td>2020/09/09 12:00:00</td>\n",
       "      <td>Simcoe Muskoka District Health Unit</td>\n",
       "      <td>60-69</td>\n",
       "      <td>Male</td>\n",
       "      <td>Not Reported</td>\n",
       "      <td>Deceased</td>\n",
       "      <td>44.777755</td>\n",
       "      <td>-79.545773</td>\n",
       "      <td>Ontario</td>\n",
       "      <td>ON</td>\n",
       "      <td>3560.0</td>\n",
       "      <td>9</td>\n",
       "      <td>37</td>\n",
       "      <td>2</td>\n",
       "      <td>1</td>\n",
       "      <td>4</td>\n",
       "      <td>1</td>\n",
       "      <td>POINT (-79.54577 44.77775)</td>\n",
       "    </tr>\n",
       "    <tr>\n",
       "      <th>518</th>\n",
       "      <td>519</td>\n",
       "      <td>2489</td>\n",
       "      <td>2020/11/07 12:00:00</td>\n",
       "      <td>York Region Public Health Services</td>\n",
       "      <td>70-79</td>\n",
       "      <td>Male</td>\n",
       "      <td>Close Contact</td>\n",
       "      <td>Deceased</td>\n",
       "      <td>44.074977</td>\n",
       "      <td>-79.428212</td>\n",
       "      <td>Ontario</td>\n",
       "      <td>ON</td>\n",
       "      <td>3570.0</td>\n",
       "      <td>11</td>\n",
       "      <td>45</td>\n",
       "      <td>5</td>\n",
       "      <td>1</td>\n",
       "      <td>5</td>\n",
       "      <td>1</td>\n",
       "      <td>POINT (-79.42821 44.07498)</td>\n",
       "    </tr>\n",
       "  </tbody>\n",
       "</table>\n",
       "</div>"
      ],
      "text/plain": [
       "     ObjectId  row_id        date_reported  \\\n",
       "256       257    2227  2020/10/30 12:00:00   \n",
       "290       291    2261  2020/10/16 12:00:00   \n",
       "335       336    2306  2020/10/19 12:00:00   \n",
       "445       446    2416  2020/09/09 12:00:00   \n",
       "518       519    2489  2020/11/07 12:00:00   \n",
       "\n",
       "                           health_region age_group  gender       exposure  \\\n",
       "256  Simcoe Muskoka District Health Unit       80+    Male   Not Reported   \n",
       "290          Eastern Ontario Health Unit       80+  Female       Outbreak   \n",
       "335                   Peel Public Health       80+    Male  Close Contact   \n",
       "445  Simcoe Muskoka District Health Unit     60-69    Male   Not Reported   \n",
       "518   York Region Public Health Services     70-79    Male  Close Contact   \n",
       "\n",
       "    case_status   latitude  longitude province province_abbr  hr_uid  month  \\\n",
       "256    Deceased  44.777755 -79.545773  Ontario            ON  3560.0     10   \n",
       "290    Deceased  45.273060 -74.952579  Ontario            ON  3558.0     10   \n",
       "335    Deceased  43.761613 -79.813571  Ontario            ON  3553.0     10   \n",
       "445    Deceased  44.777755 -79.545773  Ontario            ON  3560.0      9   \n",
       "518    Deceased  44.074977 -79.428212  Ontario            ON  3570.0     11   \n",
       "\n",
       "     week  weekday  gender_label  age_group_label  case_status_label  \\\n",
       "256    44        4             1                6                  1   \n",
       "290    42        4             0                6                  1   \n",
       "335    43        0             1                6                  1   \n",
       "445    37        2             1                4                  1   \n",
       "518    45        5             1                5                  1   \n",
       "\n",
       "                       geometry  \n",
       "256  POINT (-79.54577 44.77775)  \n",
       "290  POINT (-74.95258 45.27306)  \n",
       "335  POINT (-79.81357 43.76161)  \n",
       "445  POINT (-79.54577 44.77775)  \n",
       "518  POINT (-79.42821 44.07498)  "
      ]
     },
     "execution_count": 26,
     "metadata": {},
     "output_type": "execute_result"
    }
   ],
   "source": [
    "#6.4.2\n",
    "#Set geo_death_df to point to the coordinates of \"death\" dataframe:\n",
    "geo_death_df = gpd.GeoDataFrame(death, geometry = geometry)\n",
    "geo_death_df.head()"
   ]
  },
  {
   "cell_type": "code",
   "execution_count": 27,
   "metadata": {
    "id": "JBGFwpSd3QNG"
   },
   "outputs": [
    {
     "data": {
      "image/png": "[encoded data removed]",
      "text/plain": [
       "<Figure size 1440x1440 with 1 Axes>"
      ]
     },
     "metadata": {
      "needs_background": "light"
     },
     "output_type": "display_data"
    }
   ],
   "source": [
    "#6.4.3\n",
    "#Plot deceased \"Male and Female\" population specifically in the province of \"Ontario\"\n",
    "ax = ontario_map.plot(figsize = (20, 20), color = \"whitesmoke\", edgecolor = \"lightgrey\", linewidth = 0.5)\n",
    "texts = []\n",
    "\n",
    "#Label the provinces\n",
    "for x, y, label in zip(ontario_map_points1.geometry.x, ontario_map_points1.geometry.y, ontario_map_points1[\"PRENAME\"]):\n",
    "    texts.append(plt.text(x, y, label, fontsize = 8))\n",
    "\n",
    "aT.adjust_text(texts, force_points=0.3, force_text=0.8, expand_points=(1,1), expand_text=(1,1), \n",
    "               arrowprops=dict(arrowstyle=\"-\", color='grey', lw=0.5))\n",
    "\n",
    "\n",
    "geo_death_df[(geo_death_df['gender'] == 'Male')].plot(ax = ax, markersize = 20, color = \"blue\", marker = \"o\", label = \"Male\")\n",
    "geo_death_df[(geo_death_df['gender'] == 'Female')].plot(ax = ax, markersize = 10, color = \"red\", marker = \"^\", label = \"Female\")\n",
    "\n",
    "plt.legend(prop={'size': 12})\n",
    "plt.xlabel(\"longitude\")\n",
    "plt.ylabel(\"latitude\");\n",
    "plt.title(\"Figure-4 : Deaths by gender in Ontario\");"
   ]
  },
  {
   "cell_type": "markdown",
   "metadata": {
    "id": "q5wqen65mTFm"
   },
   "source": [
    "\n",
    "These visualizations show us that a lot more females died compared to the male population in Canada.  When we look at Ontario specifically, we can see this difference very clearly.  Hence vaccine distribution should be prioritized for females over males."
   ]
  },
  {
   "cell_type": "markdown",
   "metadata": {
    "id": "XIQCbMEruUix"
   },
   "source": [
    "\n",
    "\n",
    "###6.4 ***Exposure Type***"
   ]
  },
  {
   "cell_type": "code",
   "execution_count": 28,
   "metadata": {
    "id": "Q_hTeiZ8NPbc"
   },
   "outputs": [
    {
     "name": "stderr",
     "output_type": "stream",
     "text": [
      "/Users/bee/opt/anaconda3/lib/python3.8/site-packages/pandas/core/frame.py:4166: SettingWithCopyWarning: \n",
      "A value is trying to be set on a copy of a slice from a DataFrame\n",
      "\n",
      "See the caveats in the documentation: https://pandas.pydata.org/pandas-docs/stable/user_guide/indexing.html#returning-a-view-versus-a-copy\n",
      "  return super().replace(\n"
     ]
    }
   ],
   "source": [
    "# 6.4.1\n",
    "#Replacing the <20 to 0-19 for age group format to be the same\n",
    "data.replace(to_replace = '<20', value=\"0-19\",inplace = True)\n"
   ]
  },
  {
   "cell_type": "code",
   "execution_count": 29,
   "metadata": {
    "id": "dq4zK_oLusiU"
   },
   "outputs": [
    {
     "name": "stderr",
     "output_type": "stream",
     "text": [
      "<ipython-input-29-39afd7d3d226>:2: SettingWithCopyWarning: \n",
      "A value is trying to be set on a copy of a slice from a DataFrame.\n",
      "Try using .loc[row_indexer,col_indexer] = value instead\n",
      "\n",
      "See the caveats in the documentation: https://pandas.pydata.org/pandas-docs/stable/user_guide/indexing.html#returning-a-view-versus-a-copy\n",
      "  data[\"pcount\"]=np.ones(data.shape[0]) #updated the code to pervent legnth error.\n"
     ]
    }
   ],
   "source": [
    "#6.4.2\n",
    "data[\"pcount\"]=np.ones(data.shape[0]) #updated the code to pervent legnth error."
   ]
  },
  {
   "cell_type": "code",
   "execution_count": 30,
   "metadata": {
    "id": "rOqXCR5XwqXG"
   },
   "outputs": [
    {
     "data": {
      "text/plain": [
       "exposure        case_status\n",
       "Close Contact   Active          5852\n",
       "                Deceased         276\n",
       "                Recovered      45779\n",
       "Not Reported    Active          7888\n",
       "                Deceased         519\n",
       "                Recovered      36637\n",
       "Outbreak        Active          1743\n",
       "                Deceased        2908\n",
       "                Recovered      22347\n",
       "Travel-Related  Active            60\n",
       "                Deceased          69\n",
       "                Recovered       3213\n",
       "Name: ObjectId, dtype: int64"
      ]
     },
     "execution_count": 30,
     "metadata": {},
     "output_type": "execute_result"
    }
   ],
   "source": [
    "#6.4.3\n",
    "s = data.groupby([\"exposure\",\"case_status\"]).count()[\"ObjectId\"]\n",
    "s"
   ]
  },
  {
   "cell_type": "code",
   "execution_count": 31,
   "metadata": {
    "id": "Deh__AGtwxd6"
   },
   "outputs": [
    {
     "data": {
      "text/plain": [
       "exposure        case_status\n",
       "Close Contact   Active          5852\n",
       "                Deceased         276\n",
       "                Recovered      45779\n",
       "Outbreak        Active          1743\n",
       "                Deceased        2908\n",
       "                Recovered      22347\n",
       "Travel-Related  Active            60\n",
       "                Deceased          69\n",
       "                Recovered       3213\n",
       "Name: ObjectId, dtype: int64"
      ]
     },
     "execution_count": 31,
     "metadata": {},
     "output_type": "execute_result"
    }
   ],
   "source": [
    "#6.4.4\n",
    "clean_data = data[~data['exposure'].isin([\"Not Reported\"])]\n",
    "\n",
    "s1 = clean_data.groupby([\"exposure\",\"case_status\"]).count()[\"ObjectId\"]\n",
    "s1"
   ]
  },
  {
   "cell_type": "code",
   "execution_count": 32,
   "metadata": {
    "id": "Ct5LNbjoJCNi"
   },
   "outputs": [
    {
     "data": {
      "image/png": "[encoded data removed]",
      "text/plain": [
       "<Figure size 432x288 with 1 Axes>"
      ]
     },
     "metadata": {
      "needs_background": "light"
     },
     "output_type": "display_data"
    }
   ],
   "source": [
    "#6.4.5\n",
    "clean_data2 = clean_data[~clean_data['case_status'].isin([\"Not Reported\"])]\n",
    "s2 = clean_data.groupby([\"exposure\",\"case_status\"]).count()[\"pcount\"]\n",
    "\n",
    "s2.plot(x=\"ObjectId\",y=\"exposure\", kind = \"bar\", title = \"Figure-5: No. of cases by \\\"Case Status and Exposure Type\\\"\");"
   ]
  },
  {
   "cell_type": "code",
   "execution_count": 33,
   "metadata": {
    "id": "qzC_uARpxKh1"
   },
   "outputs": [
    {
     "data": {
      "text/plain": [
       "exposure\n",
       "Close Contact     51907\n",
       "Outbreak          26998\n",
       "Travel-Related     3342\n",
       "Name: pcount, dtype: int64"
      ]
     },
     "execution_count": 33,
     "metadata": {},
     "output_type": "execute_result"
    }
   ],
   "source": [
    "#6.4.6\n",
    "s3 = clean_data2.groupby('exposure').count()['pcount']\n",
    "s3"
   ]
  },
  {
   "cell_type": "code",
   "execution_count": 34,
   "metadata": {
    "id": "Y70T1JINJdHb"
   },
   "outputs": [
    {
     "data": {
      "text/html": [
       "<div>\n",
       "<style scoped>\n",
       "    .dataframe tbody tr th:only-of-type {\n",
       "        vertical-align: middle;\n",
       "    }\n",
       "\n",
       "    .dataframe tbody tr th {\n",
       "        vertical-align: top;\n",
       "    }\n",
       "\n",
       "    .dataframe thead th {\n",
       "        text-align: right;\n",
       "    }\n",
       "</style>\n",
       "<table border=\"1\" class=\"dataframe\">\n",
       "  <thead>\n",
       "    <tr style=\"text-align: right;\">\n",
       "      <th></th>\n",
       "      <th>exposure</th>\n",
       "      <th>case_status</th>\n",
       "      <th>percentage</th>\n",
       "    </tr>\n",
       "  </thead>\n",
       "  <tbody>\n",
       "    <tr>\n",
       "      <th>0</th>\n",
       "      <td>Close Contact</td>\n",
       "      <td>Active</td>\n",
       "      <td>0.112740</td>\n",
       "    </tr>\n",
       "    <tr>\n",
       "      <th>1</th>\n",
       "      <td>Close Contact</td>\n",
       "      <td>Deceased</td>\n",
       "      <td>0.005317</td>\n",
       "    </tr>\n",
       "    <tr>\n",
       "      <th>2</th>\n",
       "      <td>Close Contact</td>\n",
       "      <td>Recovered</td>\n",
       "      <td>0.881943</td>\n",
       "    </tr>\n",
       "    <tr>\n",
       "      <th>3</th>\n",
       "      <td>Outbreak</td>\n",
       "      <td>Active</td>\n",
       "      <td>0.064560</td>\n",
       "    </tr>\n",
       "    <tr>\n",
       "      <th>4</th>\n",
       "      <td>Outbreak</td>\n",
       "      <td>Deceased</td>\n",
       "      <td>0.107712</td>\n",
       "    </tr>\n",
       "    <tr>\n",
       "      <th>5</th>\n",
       "      <td>Outbreak</td>\n",
       "      <td>Recovered</td>\n",
       "      <td>0.827728</td>\n",
       "    </tr>\n",
       "    <tr>\n",
       "      <th>6</th>\n",
       "      <td>Travel-Related</td>\n",
       "      <td>Active</td>\n",
       "      <td>0.017953</td>\n",
       "    </tr>\n",
       "    <tr>\n",
       "      <th>7</th>\n",
       "      <td>Travel-Related</td>\n",
       "      <td>Deceased</td>\n",
       "      <td>0.020646</td>\n",
       "    </tr>\n",
       "    <tr>\n",
       "      <th>8</th>\n",
       "      <td>Travel-Related</td>\n",
       "      <td>Recovered</td>\n",
       "      <td>0.961400</td>\n",
       "    </tr>\n",
       "  </tbody>\n",
       "</table>\n",
       "</div>"
      ],
      "text/plain": [
       "         exposure case_status  percentage\n",
       "0   Close Contact      Active    0.112740\n",
       "1   Close Contact    Deceased    0.005317\n",
       "2   Close Contact   Recovered    0.881943\n",
       "3        Outbreak      Active    0.064560\n",
       "4        Outbreak    Deceased    0.107712\n",
       "5        Outbreak   Recovered    0.827728\n",
       "6  Travel-Related      Active    0.017953\n",
       "7  Travel-Related    Deceased    0.020646\n",
       "8  Travel-Related   Recovered    0.961400"
      ]
     },
     "execution_count": 34,
     "metadata": {},
     "output_type": "execute_result"
    }
   ],
   "source": [
    "#6.4.7\n",
    "h = clean_data2.groupby([\"exposure\",\"case_status\"]).count()[\"pcount\"].reset_index()\n",
    "h['exposure total'] = h['exposure']\n",
    "h['exposure total'].replace(to_replace =[\"Close Contact\",\"Outbreak\",\"Travel-Related\"],value = s3.values.tolist(), inplace=True)\n",
    "h['percentage'] = h['pcount']/h['exposure total']\n",
    "h[['exposure','case_status','percentage']]"
   ]
  },
  {
   "cell_type": "code",
   "execution_count": 35,
   "metadata": {
    "id": "TjdkXrVixyHz"
   },
   "outputs": [
    {
     "data": {
      "image/png": "[encoded data removed]",
      "text/plain": [
       "<Figure size 864x504 with 1 Axes>"
      ]
     },
     "metadata": {},
     "output_type": "display_data"
    }
   ],
   "source": [
    "#6.4.8\n",
    "s3.plot(kind='pie', subplots=True, shadow = True,startangle=90,\n",
    "figsize=(12,7), autopct='%1.1f%%', title = \"Figure-6: Percentage of Exposure Type\");"
   ]
  },
  {
   "cell_type": "code",
   "execution_count": 36,
   "metadata": {
    "id": "Pc6pMxqnKGXD"
   },
   "outputs": [
    {
     "data": {
      "image/png": "[encoded data removed]",
      "text/plain": [
       "<Figure size 432x288 with 1 Axes>"
      ]
     },
     "metadata": {
      "needs_background": "light"
     },
     "output_type": "display_data"
    }
   ],
   "source": [
    "#6.4.9\n",
    "Total_by_age = clean_data2.groupby(['age_group']).count()['ObjectId']\n",
    "close_contact = clean_data2[clean_data2['exposure']==\"Close Contact\"].groupby(['age_group','exposure']).count()['pcount']\n",
    "percentage_close_contact = close_contact[0:8]/Total_by_age[0:8]\n",
    "\n",
    "d = pd.DataFrame(percentage_close_contact)\n",
    "d.reset_index(level=0, inplace=True)\n",
    "d.reset_index(level=0, inplace=True)\n",
    "d.columns=['exposure','age_group','percentage by close contact']\n",
    "d.plot(x=\"age_group\",y=\"percentage by close contact\", kind = \"line\", title = \"Figure-7: Percentage of Close Contact by Age Group\");"
   ]
  },
  {
   "cell_type": "code",
   "execution_count": 37,
   "metadata": {
    "id": "nd3bH4sMxkoj"
   },
   "outputs": [
    {
     "data": {
      "text/plain": [
       "age_group  exposure      \n",
       "0-19       Close Contact     10365\n",
       "           Outbreak           1336\n",
       "           Travel-Related      137\n",
       "20-29      Close Contact     12403\n",
       "           Outbreak           3096\n",
       "           Travel-Related      658\n",
       "30-39      Close Contact      7838\n",
       "           Outbreak           3231\n",
       "           Travel-Related      496\n",
       "40-49      Close Contact      6852\n",
       "           Outbreak           3409\n",
       "           Travel-Related      499\n",
       "50-59      Close Contact      7223\n",
       "           Outbreak           3526\n",
       "           Travel-Related      592\n",
       "60-69      Close Contact      4404\n",
       "           Outbreak           2383\n",
       "           Travel-Related      527\n",
       "70-79      Close Contact      1926\n",
       "           Outbreak           2150\n",
       "           Travel-Related      340\n",
       "80+        Close Contact       896\n",
       "           Outbreak           7867\n",
       "           Travel-Related       93\n",
       "Name: ObjectId, dtype: int64"
      ]
     },
     "execution_count": 37,
     "metadata": {},
     "output_type": "execute_result"
    }
   ],
   "source": [
    "#6.4.10\n",
    "clean_data2.groupby(['age_group','exposure']).count()['ObjectId']\n"
   ]
  },
  {
   "cell_type": "code",
   "execution_count": 38,
   "metadata": {
    "id": "Gbjce3pjxvqg"
   },
   "outputs": [
    {
     "data": {
      "image/png": "[encoded data removed]",
      "text/plain": [
       "<Figure size 1080x720 with 1 Axes>"
      ]
     },
     "metadata": {
      "needs_background": "light"
     },
     "output_type": "display_data"
    }
   ],
   "source": [
    "#6.4.11\n",
    "pd.crosstab(clean_data2[\"age_group\"], clean_data2[\"exposure\"]).plot(kind='bar', stacked=True, rot=0, figsize=(15, 10), title = \"Figure-8: Exposure Type by Age Group\");"
   ]
  },
  {
   "cell_type": "code",
   "execution_count": 39,
   "metadata": {
    "id": "3jXT85ALys2F"
   },
   "outputs": [
    {
     "data": {
      "image/png": "[encoded data removed]",
      "text/plain": [
       "<Figure size 1080x720 with 1 Axes>"
      ]
     },
     "metadata": {
      "needs_background": "light"
     },
     "output_type": "display_data"
    }
   ],
   "source": [
    "#6.4.12\n",
    "#Both Genders\n",
    "pd.crosstab(clean_data2[\"exposure\"], clean_data2[\"age_group\"]).plot(kind='bar', stacked=True, rot=0, figsize=(15, 10), title = \"Figure-9: Age group distribution by Exposure Type\");"
   ]
  },
  {
   "cell_type": "code",
   "execution_count": 40,
   "metadata": {
    "id": "k6u3fBYNyebs"
   },
   "outputs": [
    {
     "data": {
      "image/png": "[encoded data removed]",
      "text/plain": [
       "<Figure size 1080x720 with 1 Axes>"
      ]
     },
     "metadata": {
      "needs_background": "light"
     },
     "output_type": "display_data"
    }
   ],
   "source": [
    "#6.4.13\n",
    "#Females only\n",
    "pd.crosstab((clean_data2[~clean_data2['gender'].isin([\"Male\"])])[\"exposure\"], clean_data2[\"age_group\"]).plot(kind='bar', stacked=True, rot=0, figsize=(15, 10), title = \"Figure-10: Age group distribution by Exposure Type for female population\");\n"
   ]
  },
  {
   "cell_type": "code",
   "execution_count": 41,
   "metadata": {
    "id": "Gieg7TlryidK"
   },
   "outputs": [
    {
     "data": {
      "image/png": "[encoded data removed]",
      "text/plain": [
       "<Figure size 1080x720 with 1 Axes>"
      ]
     },
     "metadata": {
      "needs_background": "light"
     },
     "output_type": "display_data"
    }
   ],
   "source": [
    "#6.4.14\n",
    "#Males only\n",
    "pd.crosstab((clean_data2[~clean_data2['gender'].isin([\"Female\"])])[\"exposure\"], clean_data2[\"age_group\"]).plot(kind='bar', stacked=True, rot=0, figsize=(15, 10), title = \"Figure-11: Age group distribution by Exposure Type for male population\");"
   ]
  },
  {
   "cell_type": "markdown",
   "metadata": {
    "id": "iqpJngr0lG5_"
   },
   "source": [
    "#### **Observation:**\n",
    "\n"
   ]
  },
  {
   "cell_type": "markdown",
   "metadata": {
    "id": "vFC2z2kFmo6e"
   },
   "source": [
    "Younger generation, particularly <29, contribute much more significantly to exposure type by close contact, likely showing that this age group is contributing the most in the spread of the virus. \n",
    "\n",
    "Gender has no impact on the likelihood of infection by any exposure type and has no impact on breakdown of exposure type by age group calssification. "
   ]
  },
  {
   "cell_type": "markdown",
   "metadata": {
    "id": "3AsfbciHmeiB"
   },
   "source": [
    "###6.5 ***Health Region***\n"
   ]
  },
  {
   "cell_type": "code",
   "execution_count": 42,
   "metadata": {
    "id": "_-IgyiTPmYzR"
   },
   "outputs": [],
   "source": [
    "#6.5.1\n",
    "#Create a cross tabulation of \"case status, total no. of cases and odds of survival\" by each health region\n",
    "Health_Region = pd.crosstab(index=data['health_region'], columns=data['case_status'], values=data['case_status'], aggfunc='count')\n",
    "Health_Region['Total Number of Cases'] = Health_Region['Active'] + Health_Region['Deceased']  + Health_Region['Recovered']\n",
    "Health_Region['Odds of Survival'] = (Health_Region['Recovered']/(Health_Region['Recovered']+Health_Region['Deceased']))*100\n"
   ]
  },
  {
   "cell_type": "code",
   "execution_count": 43,
   "metadata": {
    "id": "KCTrh4shmpAT"
   },
   "outputs": [],
   "source": [
    "#6.5.2\n",
    "#Create custom zones for each health region\n",
    "def zone(Health_Region):\n",
    "    var = \"\"\n",
    "    if Health_Region['Active'] >= 1000:\n",
    "        var = 'Red Zone'\n",
    "    elif ((Health_Region['Active'] > 500) & (Health_Region['Active'] < 1000)):\n",
    "        var = 'Yellow Zone'\n",
    "    elif Health_Region['Active'] <= 500:\n",
    "        var = 'Green Zone'\n",
    "    else:\n",
    "        var = 'NA'\n",
    "    return var"
   ]
  },
  {
   "cell_type": "code",
   "execution_count": 44,
   "metadata": {
    "id": "IqwFZ70ZmuFy"
   },
   "outputs": [],
   "source": [
    "#6.5.3\n",
    "Health_Region['Severity Zone'] = Health_Region.apply(zone,axis=1) "
   ]
  },
  {
   "cell_type": "code",
   "execution_count": 45,
   "metadata": {
    "id": "f2q1hECCmvOQ"
   },
   "outputs": [
    {
     "data": {
      "text/html": [
       "<div>\n",
       "<style scoped>\n",
       "    .dataframe tbody tr th:only-of-type {\n",
       "        vertical-align: middle;\n",
       "    }\n",
       "\n",
       "    .dataframe tbody tr th {\n",
       "        vertical-align: top;\n",
       "    }\n",
       "\n",
       "    .dataframe thead th {\n",
       "        text-align: right;\n",
       "    }\n",
       "</style>\n",
       "<table border=\"1\" class=\"dataframe\">\n",
       "  <thead>\n",
       "    <tr style=\"text-align: right;\">\n",
       "      <th>case_status</th>\n",
       "      <th>Active</th>\n",
       "      <th>Deceased</th>\n",
       "      <th>Recovered</th>\n",
       "      <th>Total Number of Cases</th>\n",
       "      <th>Odds of Survival</th>\n",
       "      <th>Severity Zone</th>\n",
       "    </tr>\n",
       "    <tr>\n",
       "      <th>health_region</th>\n",
       "      <th></th>\n",
       "      <th></th>\n",
       "      <th></th>\n",
       "      <th></th>\n",
       "      <th></th>\n",
       "      <th></th>\n",
       "    </tr>\n",
       "  </thead>\n",
       "  <tbody>\n",
       "    <tr>\n",
       "      <th>Toronto Public Health</th>\n",
       "      <td>4935.0</td>\n",
       "      <td>1640.0</td>\n",
       "      <td>36388.0</td>\n",
       "      <td>42963.0</td>\n",
       "      <td>95.687388</td>\n",
       "      <td>Red Zone</td>\n",
       "    </tr>\n",
       "    <tr>\n",
       "      <th>Peel Public Health</th>\n",
       "      <td>4526.0</td>\n",
       "      <td>383.0</td>\n",
       "      <td>23318.0</td>\n",
       "      <td>28227.0</td>\n",
       "      <td>98.384034</td>\n",
       "      <td>Red Zone</td>\n",
       "    </tr>\n",
       "    <tr>\n",
       "      <th>York Region Public Health Services</th>\n",
       "      <td>1330.0</td>\n",
       "      <td>324.0</td>\n",
       "      <td>10273.0</td>\n",
       "      <td>11927.0</td>\n",
       "      <td>96.942531</td>\n",
       "      <td>Red Zone</td>\n",
       "    </tr>\n",
       "    <tr>\n",
       "      <th>Durham Region Health Department</th>\n",
       "      <td>639.0</td>\n",
       "      <td>192.0</td>\n",
       "      <td>4101.0</td>\n",
       "      <td>4932.0</td>\n",
       "      <td>95.527603</td>\n",
       "      <td>Yellow Zone</td>\n",
       "    </tr>\n",
       "    <tr>\n",
       "      <th>Hamilton Public Health Services</th>\n",
       "      <td>585.0</td>\n",
       "      <td>94.0</td>\n",
       "      <td>2891.0</td>\n",
       "      <td>3570.0</td>\n",
       "      <td>96.850921</td>\n",
       "      <td>Yellow Zone</td>\n",
       "    </tr>\n",
       "  </tbody>\n",
       "</table>\n",
       "</div>"
      ],
      "text/plain": [
       "case_status                         Active  Deceased  Recovered  \\\n",
       "health_region                                                     \n",
       "Toronto Public Health               4935.0    1640.0    36388.0   \n",
       "Peel Public Health                  4526.0     383.0    23318.0   \n",
       "York Region Public Health Services  1330.0     324.0    10273.0   \n",
       "Durham Region Health Department      639.0     192.0     4101.0   \n",
       "Hamilton Public Health Services      585.0      94.0     2891.0   \n",
       "\n",
       "case_status                         Total Number of Cases  Odds of Survival  \\\n",
       "health_region                                                                 \n",
       "Toronto Public Health                             42963.0         95.687388   \n",
       "Peel Public Health                                28227.0         98.384034   \n",
       "York Region Public Health Services                11927.0         96.942531   \n",
       "Durham Region Health Department                    4932.0         95.527603   \n",
       "Hamilton Public Health Services                    3570.0         96.850921   \n",
       "\n",
       "case_status                        Severity Zone  \n",
       "health_region                                     \n",
       "Toronto Public Health                   Red Zone  \n",
       "Peel Public Health                      Red Zone  \n",
       "York Region Public Health Services      Red Zone  \n",
       "Durham Region Health Department      Yellow Zone  \n",
       "Hamilton Public Health Services      Yellow Zone  "
      ]
     },
     "execution_count": 45,
     "metadata": {},
     "output_type": "execute_result"
    }
   ],
   "source": [
    "#6.5.4\n",
    "#Find out which health regions have the highest no. of active cases\n",
    "Health_Region.sort_values(by=['Active'], ascending=False).head(5)"
   ]
  },
  {
   "cell_type": "code",
   "execution_count": 46,
   "metadata": {
    "id": "SoFP_Tjymvq9"
   },
   "outputs": [
    {
     "data": {
      "text/html": [
       "<div>\n",
       "<style scoped>\n",
       "    .dataframe tbody tr th:only-of-type {\n",
       "        vertical-align: middle;\n",
       "    }\n",
       "\n",
       "    .dataframe tbody tr th {\n",
       "        vertical-align: top;\n",
       "    }\n",
       "\n",
       "    .dataframe thead th {\n",
       "        text-align: right;\n",
       "    }\n",
       "</style>\n",
       "<table border=\"1\" class=\"dataframe\">\n",
       "  <thead>\n",
       "    <tr style=\"text-align: right;\">\n",
       "      <th>case_status</th>\n",
       "      <th>Active</th>\n",
       "      <th>Deceased</th>\n",
       "      <th>Recovered</th>\n",
       "      <th>Total Number of Cases</th>\n",
       "      <th>Odds of Survival</th>\n",
       "      <th>Severity Zone</th>\n",
       "    </tr>\n",
       "    <tr>\n",
       "      <th>health_region</th>\n",
       "      <th></th>\n",
       "      <th></th>\n",
       "      <th></th>\n",
       "      <th></th>\n",
       "      <th></th>\n",
       "      <th></th>\n",
       "    </tr>\n",
       "  </thead>\n",
       "  <tbody>\n",
       "    <tr>\n",
       "      <th>Leeds, Grenville and Lanark District Health Unit</th>\n",
       "      <td>34.0</td>\n",
       "      <td>53.0</td>\n",
       "      <td>434.0</td>\n",
       "      <td>521.0</td>\n",
       "      <td>89.117043</td>\n",
       "      <td>Green Zone</td>\n",
       "    </tr>\n",
       "    <tr>\n",
       "      <th>Porcupine Health Unit</th>\n",
       "      <td>8.0</td>\n",
       "      <td>9.0</td>\n",
       "      <td>99.0</td>\n",
       "      <td>116.0</td>\n",
       "      <td>91.666667</td>\n",
       "      <td>Green Zone</td>\n",
       "    </tr>\n",
       "    <tr>\n",
       "      <th>Haliburton, Kawartha, Pine Ridge District Health Unit</th>\n",
       "      <td>38.0</td>\n",
       "      <td>21.0</td>\n",
       "      <td>284.0</td>\n",
       "      <td>343.0</td>\n",
       "      <td>93.114754</td>\n",
       "      <td>Green Zone</td>\n",
       "    </tr>\n",
       "    <tr>\n",
       "      <th>Lambton Public Health</th>\n",
       "      <td>21.0</td>\n",
       "      <td>25.0</td>\n",
       "      <td>381.0</td>\n",
       "      <td>427.0</td>\n",
       "      <td>93.842365</td>\n",
       "      <td>Green Zone</td>\n",
       "    </tr>\n",
       "    <tr>\n",
       "      <th>Haldimand-Norfolk Health Unit</th>\n",
       "      <td>34.0</td>\n",
       "      <td>37.0</td>\n",
       "      <td>585.0</td>\n",
       "      <td>656.0</td>\n",
       "      <td>94.051447</td>\n",
       "      <td>Green Zone</td>\n",
       "    </tr>\n",
       "  </tbody>\n",
       "</table>\n",
       "</div>"
      ],
      "text/plain": [
       "case_status                                         Active  Deceased  \\\n",
       "health_region                                                          \n",
       "Leeds, Grenville and Lanark District Health Unit      34.0      53.0   \n",
       "Porcupine Health Unit                                  8.0       9.0   \n",
       "Haliburton, Kawartha, Pine Ridge District Healt...    38.0      21.0   \n",
       "Lambton Public Health                                 21.0      25.0   \n",
       "Haldimand-Norfolk Health Unit                         34.0      37.0   \n",
       "\n",
       "case_status                                         Recovered  \\\n",
       "health_region                                                   \n",
       "Leeds, Grenville and Lanark District Health Unit        434.0   \n",
       "Porcupine Health Unit                                    99.0   \n",
       "Haliburton, Kawartha, Pine Ridge District Healt...      284.0   \n",
       "Lambton Public Health                                   381.0   \n",
       "Haldimand-Norfolk Health Unit                           585.0   \n",
       "\n",
       "case_status                                         Total Number of Cases  \\\n",
       "health_region                                                               \n",
       "Leeds, Grenville and Lanark District Health Unit                    521.0   \n",
       "Porcupine Health Unit                                               116.0   \n",
       "Haliburton, Kawartha, Pine Ridge District Healt...                  343.0   \n",
       "Lambton Public Health                                               427.0   \n",
       "Haldimand-Norfolk Health Unit                                       656.0   \n",
       "\n",
       "case_status                                         Odds of Survival  \\\n",
       "health_region                                                          \n",
       "Leeds, Grenville and Lanark District Health Unit           89.117043   \n",
       "Porcupine Health Unit                                      91.666667   \n",
       "Haliburton, Kawartha, Pine Ridge District Healt...         93.114754   \n",
       "Lambton Public Health                                      93.842365   \n",
       "Haldimand-Norfolk Health Unit                              94.051447   \n",
       "\n",
       "case_status                                        Severity Zone  \n",
       "health_region                                                     \n",
       "Leeds, Grenville and Lanark District Health Unit      Green Zone  \n",
       "Porcupine Health Unit                                 Green Zone  \n",
       "Haliburton, Kawartha, Pine Ridge District Healt...    Green Zone  \n",
       "Lambton Public Health                                 Green Zone  \n",
       "Haldimand-Norfolk Health Unit                         Green Zone  "
      ]
     },
     "execution_count": 46,
     "metadata": {},
     "output_type": "execute_result"
    }
   ],
   "source": [
    "#6.5.5\n",
    "#Find out which health regions have highest odds of survival\n",
    "Health_Region.sort_values(by=['Odds of Survival'], ascending=True).head(5)"
   ]
  },
  {
   "cell_type": "code",
   "execution_count": 47,
   "metadata": {
    "id": "k8Q84i3omxCz"
   },
   "outputs": [
    {
     "data": {
      "text/html": [
       "<div>\n",
       "<style scoped>\n",
       "    .dataframe tbody tr th:only-of-type {\n",
       "        vertical-align: middle;\n",
       "    }\n",
       "\n",
       "    .dataframe tbody tr th {\n",
       "        vertical-align: top;\n",
       "    }\n",
       "\n",
       "    .dataframe thead th {\n",
       "        text-align: right;\n",
       "    }\n",
       "</style>\n",
       "<table border=\"1\" class=\"dataframe\">\n",
       "  <thead>\n",
       "    <tr style=\"text-align: right;\">\n",
       "      <th>case_status</th>\n",
       "      <th>Active</th>\n",
       "      <th>Deceased</th>\n",
       "      <th>Recovered</th>\n",
       "      <th>Total Number of Cases</th>\n",
       "      <th>Odds of Survival</th>\n",
       "      <th>Severity Zone</th>\n",
       "    </tr>\n",
       "    <tr>\n",
       "      <th>health_region</th>\n",
       "      <th></th>\n",
       "      <th></th>\n",
       "      <th></th>\n",
       "      <th></th>\n",
       "      <th></th>\n",
       "      <th></th>\n",
       "    </tr>\n",
       "  </thead>\n",
       "  <tbody>\n",
       "    <tr>\n",
       "      <th>Toronto Public Health</th>\n",
       "      <td>4935.0</td>\n",
       "      <td>1640.0</td>\n",
       "      <td>36388.0</td>\n",
       "      <td>42963.0</td>\n",
       "      <td>95.687388</td>\n",
       "      <td>Red Zone</td>\n",
       "    </tr>\n",
       "    <tr>\n",
       "      <th>Peel Public Health</th>\n",
       "      <td>4526.0</td>\n",
       "      <td>383.0</td>\n",
       "      <td>23318.0</td>\n",
       "      <td>28227.0</td>\n",
       "      <td>98.384034</td>\n",
       "      <td>Red Zone</td>\n",
       "    </tr>\n",
       "    <tr>\n",
       "      <th>York Region Public Health Services</th>\n",
       "      <td>1330.0</td>\n",
       "      <td>324.0</td>\n",
       "      <td>10273.0</td>\n",
       "      <td>11927.0</td>\n",
       "      <td>96.942531</td>\n",
       "      <td>Red Zone</td>\n",
       "    </tr>\n",
       "    <tr>\n",
       "      <th>Ottawa Public Health</th>\n",
       "      <td>420.0</td>\n",
       "      <td>379.0</td>\n",
       "      <td>7976.0</td>\n",
       "      <td>8775.0</td>\n",
       "      <td>95.463794</td>\n",
       "      <td>Green Zone</td>\n",
       "    </tr>\n",
       "    <tr>\n",
       "      <th>Durham Region Health Department</th>\n",
       "      <td>639.0</td>\n",
       "      <td>192.0</td>\n",
       "      <td>4101.0</td>\n",
       "      <td>4932.0</td>\n",
       "      <td>95.527603</td>\n",
       "      <td>Yellow Zone</td>\n",
       "    </tr>\n",
       "  </tbody>\n",
       "</table>\n",
       "</div>"
      ],
      "text/plain": [
       "case_status                         Active  Deceased  Recovered  \\\n",
       "health_region                                                     \n",
       "Toronto Public Health               4935.0    1640.0    36388.0   \n",
       "Peel Public Health                  4526.0     383.0    23318.0   \n",
       "York Region Public Health Services  1330.0     324.0    10273.0   \n",
       "Ottawa Public Health                 420.0     379.0     7976.0   \n",
       "Durham Region Health Department      639.0     192.0     4101.0   \n",
       "\n",
       "case_status                         Total Number of Cases  Odds of Survival  \\\n",
       "health_region                                                                 \n",
       "Toronto Public Health                             42963.0         95.687388   \n",
       "Peel Public Health                                28227.0         98.384034   \n",
       "York Region Public Health Services                11927.0         96.942531   \n",
       "Ottawa Public Health                               8775.0         95.463794   \n",
       "Durham Region Health Department                    4932.0         95.527603   \n",
       "\n",
       "case_status                        Severity Zone  \n",
       "health_region                                     \n",
       "Toronto Public Health                   Red Zone  \n",
       "Peel Public Health                      Red Zone  \n",
       "York Region Public Health Services      Red Zone  \n",
       "Ottawa Public Health                  Green Zone  \n",
       "Durham Region Health Department      Yellow Zone  "
      ]
     },
     "execution_count": 47,
     "metadata": {},
     "output_type": "execute_result"
    }
   ],
   "source": [
    "#6.5.6\n",
    "#Order health regions by the highest total no. of cases\n",
    "Health_Region.sort_values(by=['Total Number of Cases'], ascending=False).head(5)"
   ]
  },
  {
   "cell_type": "markdown",
   "metadata": {
    "id": "p6l6RmjClNhj"
   },
   "source": [
    "#### **Observation:**\n",
    "\n",
    "Toronto Public Health Region is the first region that should receive the vaccine as it has the highest count of overall cases and is in the \"Red Zone\" with over 4043 active cases.  "
   ]
  },
  {
   "cell_type": "markdown",
   "metadata": {
    "id": "-TNdCzDG410j"
   },
   "source": [
    "###6.6 ***Health Region related visualizations***"
   ]
  },
  {
   "cell_type": "code",
   "execution_count": 48,
   "metadata": {
    "id": "ZslmyislqPJ4"
   },
   "outputs": [],
   "source": [
    "#6.6.1\n",
    "#Create a df with health region coordinates\n",
    "health_region_coords= data.groupby(['health_region'])[[\"latitude\", \"longitude\"]].max()"
   ]
  },
  {
   "cell_type": "code",
   "execution_count": 49,
   "metadata": {
    "id": "x4HT4LqEqWRe"
   },
   "outputs": [
    {
     "data": {
      "text/html": [
       "<div>\n",
       "<style scoped>\n",
       "    .dataframe tbody tr th:only-of-type {\n",
       "        vertical-align: middle;\n",
       "    }\n",
       "\n",
       "    .dataframe tbody tr th {\n",
       "        vertical-align: top;\n",
       "    }\n",
       "\n",
       "    .dataframe thead th {\n",
       "        text-align: right;\n",
       "    }\n",
       "</style>\n",
       "<table border=\"1\" class=\"dataframe\">\n",
       "  <thead>\n",
       "    <tr style=\"text-align: right;\">\n",
       "      <th></th>\n",
       "      <th>Active</th>\n",
       "      <th>Deceased</th>\n",
       "      <th>Recovered</th>\n",
       "      <th>Total Number of Cases</th>\n",
       "      <th>Odds of Survival</th>\n",
       "      <th>Severity Zone</th>\n",
       "      <th>latitude</th>\n",
       "      <th>longitude</th>\n",
       "    </tr>\n",
       "    <tr>\n",
       "      <th>health_region</th>\n",
       "      <th></th>\n",
       "      <th></th>\n",
       "      <th></th>\n",
       "      <th></th>\n",
       "      <th></th>\n",
       "      <th></th>\n",
       "      <th></th>\n",
       "      <th></th>\n",
       "    </tr>\n",
       "  </thead>\n",
       "  <tbody>\n",
       "    <tr>\n",
       "      <th>Algoma Public Health Unit</th>\n",
       "      <td>1.0</td>\n",
       "      <td>NaN</td>\n",
       "      <td>60.0</td>\n",
       "      <td>NaN</td>\n",
       "      <td>NaN</td>\n",
       "      <td>Green Zone</td>\n",
       "      <td>47.596789</td>\n",
       "      <td>-84.412469</td>\n",
       "    </tr>\n",
       "    <tr>\n",
       "      <th>Brant County Health Unit</th>\n",
       "      <td>57.0</td>\n",
       "      <td>6.0</td>\n",
       "      <td>575.0</td>\n",
       "      <td>638.0</td>\n",
       "      <td>98.967298</td>\n",
       "      <td>Green Zone</td>\n",
       "      <td>43.120346</td>\n",
       "      <td>-80.295389</td>\n",
       "    </tr>\n",
       "    <tr>\n",
       "      <th>Chatham-Kent Health Unit</th>\n",
       "      <td>31.0</td>\n",
       "      <td>4.0</td>\n",
       "      <td>488.0</td>\n",
       "      <td>523.0</td>\n",
       "      <td>99.186992</td>\n",
       "      <td>Green Zone</td>\n",
       "      <td>42.419253</td>\n",
       "      <td>-82.128088</td>\n",
       "    </tr>\n",
       "    <tr>\n",
       "      <th>Durham Region Health Department</th>\n",
       "      <td>639.0</td>\n",
       "      <td>192.0</td>\n",
       "      <td>4101.0</td>\n",
       "      <td>4932.0</td>\n",
       "      <td>95.527603</td>\n",
       "      <td>Yellow Zone</td>\n",
       "      <td>44.035150</td>\n",
       "      <td>-78.882498</td>\n",
       "    </tr>\n",
       "    <tr>\n",
       "      <th>Eastern Ontario Health Unit</th>\n",
       "      <td>140.0</td>\n",
       "      <td>40.0</td>\n",
       "      <td>754.0</td>\n",
       "      <td>934.0</td>\n",
       "      <td>94.962217</td>\n",
       "      <td>Green Zone</td>\n",
       "      <td>45.273060</td>\n",
       "      <td>-74.952579</td>\n",
       "    </tr>\n",
       "  </tbody>\n",
       "</table>\n",
       "</div>"
      ],
      "text/plain": [
       "                                 Active  Deceased  Recovered  \\\n",
       "health_region                                                  \n",
       "Algoma Public Health Unit           1.0       NaN       60.0   \n",
       "Brant County Health Unit           57.0       6.0      575.0   \n",
       "Chatham-Kent Health Unit           31.0       4.0      488.0   \n",
       "Durham Region Health Department   639.0     192.0     4101.0   \n",
       "Eastern Ontario Health Unit       140.0      40.0      754.0   \n",
       "\n",
       "                                 Total Number of Cases  Odds of Survival  \\\n",
       "health_region                                                              \n",
       "Algoma Public Health Unit                          NaN               NaN   \n",
       "Brant County Health Unit                         638.0         98.967298   \n",
       "Chatham-Kent Health Unit                         523.0         99.186992   \n",
       "Durham Region Health Department                 4932.0         95.527603   \n",
       "Eastern Ontario Health Unit                      934.0         94.962217   \n",
       "\n",
       "                                Severity Zone   latitude  longitude  \n",
       "health_region                                                        \n",
       "Algoma Public Health Unit          Green Zone  47.596789 -84.412469  \n",
       "Brant County Health Unit           Green Zone  43.120346 -80.295389  \n",
       "Chatham-Kent Health Unit           Green Zone  42.419253 -82.128088  \n",
       "Durham Region Health Department   Yellow Zone  44.035150 -78.882498  \n",
       "Eastern Ontario Health Unit        Green Zone  45.273060 -74.952579  "
      ]
     },
     "execution_count": 49,
     "metadata": {},
     "output_type": "execute_result"
    }
   ],
   "source": [
    "#6.6.2\n",
    "#Merge latitude and longitudes from the base table\n",
    "Health_Region = Health_Region.merge(health_region_coords, how='inner', left_on=[\"health_region\"], right_on=[\"health_region\"])\n",
    "Health_Region.head()"
   ]
  },
  {
   "cell_type": "code",
   "execution_count": 50,
   "metadata": {
    "id": "I28oFKM85e8X"
   },
   "outputs": [
    {
     "data": {
      "text/plain": [
       "[<shapely.geometry.point.Point at 0x1267d34f0>,\n",
       " <shapely.geometry.point.Point at 0x1234c1cd0>,\n",
       " <shapely.geometry.point.Point at 0x1234c1250>]"
      ]
     },
     "execution_count": 50,
     "metadata": {},
     "output_type": "execute_result"
    }
   ],
   "source": [
    "#6.6.3\n",
    "#Get points from the \"Health_Region\" data set:\n",
    "geometry = [Point(xy) for xy in zip(Health_Region['longitude'], Health_Region['latitude'])]\n",
    "geometry[:3]"
   ]
  },
  {
   "cell_type": "code",
   "execution_count": 51,
   "metadata": {
    "id": "wBO7eiE45nH3"
   },
   "outputs": [
    {
     "data": {
      "text/html": [
       "<div>\n",
       "<style scoped>\n",
       "    .dataframe tbody tr th:only-of-type {\n",
       "        vertical-align: middle;\n",
       "    }\n",
       "\n",
       "    .dataframe tbody tr th {\n",
       "        vertical-align: top;\n",
       "    }\n",
       "\n",
       "    .dataframe thead th {\n",
       "        text-align: right;\n",
       "    }\n",
       "</style>\n",
       "<table border=\"1\" class=\"dataframe\">\n",
       "  <thead>\n",
       "    <tr style=\"text-align: right;\">\n",
       "      <th></th>\n",
       "      <th>Active</th>\n",
       "      <th>Deceased</th>\n",
       "      <th>Recovered</th>\n",
       "      <th>Total Number of Cases</th>\n",
       "      <th>Odds of Survival</th>\n",
       "      <th>Severity Zone</th>\n",
       "      <th>latitude</th>\n",
       "      <th>longitude</th>\n",
       "      <th>geometry</th>\n",
       "    </tr>\n",
       "    <tr>\n",
       "      <th>health_region</th>\n",
       "      <th></th>\n",
       "      <th></th>\n",
       "      <th></th>\n",
       "      <th></th>\n",
       "      <th></th>\n",
       "      <th></th>\n",
       "      <th></th>\n",
       "      <th></th>\n",
       "      <th></th>\n",
       "    </tr>\n",
       "  </thead>\n",
       "  <tbody>\n",
       "    <tr>\n",
       "      <th>Algoma Public Health Unit</th>\n",
       "      <td>1.0</td>\n",
       "      <td>NaN</td>\n",
       "      <td>60.0</td>\n",
       "      <td>NaN</td>\n",
       "      <td>NaN</td>\n",
       "      <td>Green Zone</td>\n",
       "      <td>47.596789</td>\n",
       "      <td>-84.412469</td>\n",
       "      <td>POINT (-84.41247 47.59679)</td>\n",
       "    </tr>\n",
       "    <tr>\n",
       "      <th>Brant County Health Unit</th>\n",
       "      <td>57.0</td>\n",
       "      <td>6.0</td>\n",
       "      <td>575.0</td>\n",
       "      <td>638.0</td>\n",
       "      <td>98.967298</td>\n",
       "      <td>Green Zone</td>\n",
       "      <td>43.120346</td>\n",
       "      <td>-80.295389</td>\n",
       "      <td>POINT (-80.29539 43.12035)</td>\n",
       "    </tr>\n",
       "    <tr>\n",
       "      <th>Chatham-Kent Health Unit</th>\n",
       "      <td>31.0</td>\n",
       "      <td>4.0</td>\n",
       "      <td>488.0</td>\n",
       "      <td>523.0</td>\n",
       "      <td>99.186992</td>\n",
       "      <td>Green Zone</td>\n",
       "      <td>42.419253</td>\n",
       "      <td>-82.128088</td>\n",
       "      <td>POINT (-82.12809 42.41925)</td>\n",
       "    </tr>\n",
       "    <tr>\n",
       "      <th>Durham Region Health Department</th>\n",
       "      <td>639.0</td>\n",
       "      <td>192.0</td>\n",
       "      <td>4101.0</td>\n",
       "      <td>4932.0</td>\n",
       "      <td>95.527603</td>\n",
       "      <td>Yellow Zone</td>\n",
       "      <td>44.035150</td>\n",
       "      <td>-78.882498</td>\n",
       "      <td>POINT (-78.88250 44.03515)</td>\n",
       "    </tr>\n",
       "    <tr>\n",
       "      <th>Eastern Ontario Health Unit</th>\n",
       "      <td>140.0</td>\n",
       "      <td>40.0</td>\n",
       "      <td>754.0</td>\n",
       "      <td>934.0</td>\n",
       "      <td>94.962217</td>\n",
       "      <td>Green Zone</td>\n",
       "      <td>45.273060</td>\n",
       "      <td>-74.952579</td>\n",
       "      <td>POINT (-74.95258 45.27306)</td>\n",
       "    </tr>\n",
       "  </tbody>\n",
       "</table>\n",
       "</div>"
      ],
      "text/plain": [
       "                                 Active  Deceased  Recovered  \\\n",
       "health_region                                                  \n",
       "Algoma Public Health Unit           1.0       NaN       60.0   \n",
       "Brant County Health Unit           57.0       6.0      575.0   \n",
       "Chatham-Kent Health Unit           31.0       4.0      488.0   \n",
       "Durham Region Health Department   639.0     192.0     4101.0   \n",
       "Eastern Ontario Health Unit       140.0      40.0      754.0   \n",
       "\n",
       "                                 Total Number of Cases  Odds of Survival  \\\n",
       "health_region                                                              \n",
       "Algoma Public Health Unit                          NaN               NaN   \n",
       "Brant County Health Unit                         638.0         98.967298   \n",
       "Chatham-Kent Health Unit                         523.0         99.186992   \n",
       "Durham Region Health Department                 4932.0         95.527603   \n",
       "Eastern Ontario Health Unit                      934.0         94.962217   \n",
       "\n",
       "                                Severity Zone   latitude  longitude  \\\n",
       "health_region                                                         \n",
       "Algoma Public Health Unit          Green Zone  47.596789 -84.412469   \n",
       "Brant County Health Unit           Green Zone  43.120346 -80.295389   \n",
       "Chatham-Kent Health Unit           Green Zone  42.419253 -82.128088   \n",
       "Durham Region Health Department   Yellow Zone  44.035150 -78.882498   \n",
       "Eastern Ontario Health Unit        Green Zone  45.273060 -74.952579   \n",
       "\n",
       "                                                   geometry  \n",
       "health_region                                                \n",
       "Algoma Public Health Unit        POINT (-84.41247 47.59679)  \n",
       "Brant County Health Unit         POINT (-80.29539 43.12035)  \n",
       "Chatham-Kent Health Unit         POINT (-82.12809 42.41925)  \n",
       "Durham Region Health Department  POINT (-78.88250 44.03515)  \n",
       "Eastern Ontario Health Unit      POINT (-74.95258 45.27306)  "
      ]
     },
     "execution_count": 51,
     "metadata": {},
     "output_type": "execute_result"
    }
   ],
   "source": [
    "#6.6.4\n",
    "#Set geo_health_region_df to point to the coordinates of \"Health_Region\" dataframe:\n",
    "geo_health_region_df = gpd.GeoDataFrame(Health_Region, geometry = geometry)\n",
    "geo_health_region_df.head()"
   ]
  },
  {
   "cell_type": "code",
   "execution_count": 52,
   "metadata": {
    "id": "kuCA1kgPARuU"
   },
   "outputs": [
    {
     "data": {
      "text/html": [
       "<div>\n",
       "<style scoped>\n",
       "    .dataframe tbody tr th:only-of-type {\n",
       "        vertical-align: middle;\n",
       "    }\n",
       "\n",
       "    .dataframe tbody tr th {\n",
       "        vertical-align: top;\n",
       "    }\n",
       "\n",
       "    .dataframe thead th {\n",
       "        text-align: right;\n",
       "    }\n",
       "</style>\n",
       "<table border=\"1\" class=\"dataframe\">\n",
       "  <thead>\n",
       "    <tr style=\"text-align: right;\">\n",
       "      <th></th>\n",
       "      <th>health_region</th>\n",
       "      <th>Active</th>\n",
       "      <th>Deceased</th>\n",
       "      <th>Recovered</th>\n",
       "      <th>Total Number of Cases</th>\n",
       "      <th>Odds of Survival</th>\n",
       "      <th>Severity Zone</th>\n",
       "      <th>latitude</th>\n",
       "      <th>longitude</th>\n",
       "      <th>geometry</th>\n",
       "    </tr>\n",
       "  </thead>\n",
       "  <tbody>\n",
       "    <tr>\n",
       "      <th>0</th>\n",
       "      <td>Algoma Public Health Unit</td>\n",
       "      <td>1.0</td>\n",
       "      <td>NaN</td>\n",
       "      <td>60.0</td>\n",
       "      <td>NaN</td>\n",
       "      <td>NaN</td>\n",
       "      <td>Green Zone</td>\n",
       "      <td>47.596789</td>\n",
       "      <td>-84.412469</td>\n",
       "      <td>POINT (-84.41247 47.59679)</td>\n",
       "    </tr>\n",
       "    <tr>\n",
       "      <th>1</th>\n",
       "      <td>Brant County Health Unit</td>\n",
       "      <td>57.0</td>\n",
       "      <td>6.0</td>\n",
       "      <td>575.0</td>\n",
       "      <td>638.0</td>\n",
       "      <td>98.967298</td>\n",
       "      <td>Green Zone</td>\n",
       "      <td>43.120346</td>\n",
       "      <td>-80.295389</td>\n",
       "      <td>POINT (-80.29539 43.12035)</td>\n",
       "    </tr>\n",
       "    <tr>\n",
       "      <th>2</th>\n",
       "      <td>Chatham-Kent Health Unit</td>\n",
       "      <td>31.0</td>\n",
       "      <td>4.0</td>\n",
       "      <td>488.0</td>\n",
       "      <td>523.0</td>\n",
       "      <td>99.186992</td>\n",
       "      <td>Green Zone</td>\n",
       "      <td>42.419253</td>\n",
       "      <td>-82.128088</td>\n",
       "      <td>POINT (-82.12809 42.41925)</td>\n",
       "    </tr>\n",
       "    <tr>\n",
       "      <th>3</th>\n",
       "      <td>Durham Region Health Department</td>\n",
       "      <td>639.0</td>\n",
       "      <td>192.0</td>\n",
       "      <td>4101.0</td>\n",
       "      <td>4932.0</td>\n",
       "      <td>95.527603</td>\n",
       "      <td>Yellow Zone</td>\n",
       "      <td>44.035150</td>\n",
       "      <td>-78.882498</td>\n",
       "      <td>POINT (-78.88250 44.03515)</td>\n",
       "    </tr>\n",
       "    <tr>\n",
       "      <th>4</th>\n",
       "      <td>Eastern Ontario Health Unit</td>\n",
       "      <td>140.0</td>\n",
       "      <td>40.0</td>\n",
       "      <td>754.0</td>\n",
       "      <td>934.0</td>\n",
       "      <td>94.962217</td>\n",
       "      <td>Green Zone</td>\n",
       "      <td>45.273060</td>\n",
       "      <td>-74.952579</td>\n",
       "      <td>POINT (-74.95258 45.27306)</td>\n",
       "    </tr>\n",
       "    <tr>\n",
       "      <th>5</th>\n",
       "      <td>Grey Bruce Health Unit</td>\n",
       "      <td>35.0</td>\n",
       "      <td>NaN</td>\n",
       "      <td>308.0</td>\n",
       "      <td>NaN</td>\n",
       "      <td>NaN</td>\n",
       "      <td>Green Zone</td>\n",
       "      <td>44.408279</td>\n",
       "      <td>-81.008611</td>\n",
       "      <td>POINT (-81.00861 44.40828)</td>\n",
       "    </tr>\n",
       "    <tr>\n",
       "      <th>6</th>\n",
       "      <td>Haldimand-Norfolk Health Unit</td>\n",
       "      <td>34.0</td>\n",
       "      <td>37.0</td>\n",
       "      <td>585.0</td>\n",
       "      <td>656.0</td>\n",
       "      <td>94.051447</td>\n",
       "      <td>Green Zone</td>\n",
       "      <td>42.854447</td>\n",
       "      <td>-80.178035</td>\n",
       "      <td>POINT (-80.17804 42.85445)</td>\n",
       "    </tr>\n",
       "    <tr>\n",
       "      <th>7</th>\n",
       "      <td>Haliburton, Kawartha, Pine Ridge District Heal...</td>\n",
       "      <td>38.0</td>\n",
       "      <td>21.0</td>\n",
       "      <td>284.0</td>\n",
       "      <td>343.0</td>\n",
       "      <td>93.114754</td>\n",
       "      <td>Green Zone</td>\n",
       "      <td>44.671238</td>\n",
       "      <td>-78.897222</td>\n",
       "      <td>POINT (-78.89722 44.67124)</td>\n",
       "    </tr>\n",
       "    <tr>\n",
       "      <th>8</th>\n",
       "      <td>Halton Region Health Department</td>\n",
       "      <td>471.0</td>\n",
       "      <td>67.0</td>\n",
       "      <td>3274.0</td>\n",
       "      <td>3812.0</td>\n",
       "      <td>97.994612</td>\n",
       "      <td>Green Zone</td>\n",
       "      <td>43.512097</td>\n",
       "      <td>-79.890508</td>\n",
       "      <td>POINT (-79.89051 43.51210)</td>\n",
       "    </tr>\n",
       "    <tr>\n",
       "      <th>9</th>\n",
       "      <td>Hamilton Public Health Services</td>\n",
       "      <td>585.0</td>\n",
       "      <td>94.0</td>\n",
       "      <td>2891.0</td>\n",
       "      <td>3570.0</td>\n",
       "      <td>96.850921</td>\n",
       "      <td>Yellow Zone</td>\n",
       "      <td>43.253243</td>\n",
       "      <td>-79.958463</td>\n",
       "      <td>POINT (-79.95846 43.25324)</td>\n",
       "    </tr>\n",
       "    <tr>\n",
       "      <th>10</th>\n",
       "      <td>Hastings and Prince Edward Counties Health Unit</td>\n",
       "      <td>41.0</td>\n",
       "      <td>5.0</td>\n",
       "      <td>126.0</td>\n",
       "      <td>172.0</td>\n",
       "      <td>96.183206</td>\n",
       "      <td>Green Zone</td>\n",
       "      <td>44.631167</td>\n",
       "      <td>-77.551861</td>\n",
       "      <td>POINT (-77.55186 44.63117)</td>\n",
       "    </tr>\n",
       "    <tr>\n",
       "      <th>11</th>\n",
       "      <td>Huron Perth District Health Unit</td>\n",
       "      <td>57.0</td>\n",
       "      <td>18.0</td>\n",
       "      <td>309.0</td>\n",
       "      <td>384.0</td>\n",
       "      <td>94.495413</td>\n",
       "      <td>Green Zone</td>\n",
       "      <td>43.600514</td>\n",
       "      <td>-81.281485</td>\n",
       "      <td>POINT (-81.28148 43.60051)</td>\n",
       "    </tr>\n",
       "    <tr>\n",
       "      <th>12</th>\n",
       "      <td>Kingston, Frontenac and Lennox &amp; Addington Pub...</td>\n",
       "      <td>42.0</td>\n",
       "      <td>NaN</td>\n",
       "      <td>248.0</td>\n",
       "      <td>NaN</td>\n",
       "      <td>NaN</td>\n",
       "      <td>Green Zone</td>\n",
       "      <td>44.676754</td>\n",
       "      <td>-76.884254</td>\n",
       "      <td>POINT (-76.88425 44.67675)</td>\n",
       "    </tr>\n",
       "    <tr>\n",
       "      <th>13</th>\n",
       "      <td>Lambton Public Health</td>\n",
       "      <td>21.0</td>\n",
       "      <td>25.0</td>\n",
       "      <td>381.0</td>\n",
       "      <td>427.0</td>\n",
       "      <td>93.842365</td>\n",
       "      <td>Green Zone</td>\n",
       "      <td>42.886275</td>\n",
       "      <td>-82.098372</td>\n",
       "      <td>POINT (-82.09837 42.88628)</td>\n",
       "    </tr>\n",
       "    <tr>\n",
       "      <th>14</th>\n",
       "      <td>Leeds, Grenville and Lanark District Health Unit</td>\n",
       "      <td>34.0</td>\n",
       "      <td>53.0</td>\n",
       "      <td>434.0</td>\n",
       "      <td>521.0</td>\n",
       "      <td>89.117043</td>\n",
       "      <td>Green Zone</td>\n",
       "      <td>44.863782</td>\n",
       "      <td>-76.118058</td>\n",
       "      <td>POINT (-76.11806 44.86378)</td>\n",
       "    </tr>\n",
       "    <tr>\n",
       "      <th>15</th>\n",
       "      <td>Middlesex-London Health Unit</td>\n",
       "      <td>292.0</td>\n",
       "      <td>67.0</td>\n",
       "      <td>1424.0</td>\n",
       "      <td>1783.0</td>\n",
       "      <td>95.506372</td>\n",
       "      <td>Green Zone</td>\n",
       "      <td>42.995716</td>\n",
       "      <td>-81.456983</td>\n",
       "      <td>POINT (-81.45698 42.99572)</td>\n",
       "    </tr>\n",
       "    <tr>\n",
       "      <th>16</th>\n",
       "      <td>Niagara Region Public Health Department</td>\n",
       "      <td>178.0</td>\n",
       "      <td>88.0</td>\n",
       "      <td>2015.0</td>\n",
       "      <td>2281.0</td>\n",
       "      <td>95.815502</td>\n",
       "      <td>Green Zone</td>\n",
       "      <td>43.045446</td>\n",
       "      <td>-79.313670</td>\n",
       "      <td>POINT (-79.31367 43.04545)</td>\n",
       "    </tr>\n",
       "    <tr>\n",
       "      <th>17</th>\n",
       "      <td>North Bay Parry Sound District Health Unit</td>\n",
       "      <td>9.0</td>\n",
       "      <td>1.0</td>\n",
       "      <td>75.0</td>\n",
       "      <td>85.0</td>\n",
       "      <td>98.684211</td>\n",
       "      <td>Green Zone</td>\n",
       "      <td>46.085384</td>\n",
       "      <td>-79.686823</td>\n",
       "      <td>POINT (-79.68682 46.08538)</td>\n",
       "    </tr>\n",
       "    <tr>\n",
       "      <th>18</th>\n",
       "      <td>Northwestern Health Unit</td>\n",
       "      <td>11.0</td>\n",
       "      <td>NaN</td>\n",
       "      <td>115.0</td>\n",
       "      <td>NaN</td>\n",
       "      <td>NaN</td>\n",
       "      <td>Green Zone</td>\n",
       "      <td>51.494809</td>\n",
       "      <td>-92.553456</td>\n",
       "      <td>POINT (-92.55346 51.49481)</td>\n",
       "    </tr>\n",
       "    <tr>\n",
       "      <th>19</th>\n",
       "      <td>Ottawa Public Health</td>\n",
       "      <td>420.0</td>\n",
       "      <td>379.0</td>\n",
       "      <td>7976.0</td>\n",
       "      <td>8775.0</td>\n",
       "      <td>95.463794</td>\n",
       "      <td>Green Zone</td>\n",
       "      <td>45.179578</td>\n",
       "      <td>-75.799952</td>\n",
       "      <td>POINT (-75.79995 45.17958)</td>\n",
       "    </tr>\n",
       "    <tr>\n",
       "      <th>20</th>\n",
       "      <td>Peel Public Health</td>\n",
       "      <td>4526.0</td>\n",
       "      <td>383.0</td>\n",
       "      <td>23318.0</td>\n",
       "      <td>28227.0</td>\n",
       "      <td>98.384034</td>\n",
       "      <td>Red Zone</td>\n",
       "      <td>43.761613</td>\n",
       "      <td>-79.813571</td>\n",
       "      <td>POINT (-79.81357 43.76161)</td>\n",
       "    </tr>\n",
       "    <tr>\n",
       "      <th>21</th>\n",
       "      <td>Peterborough Public Health</td>\n",
       "      <td>25.0</td>\n",
       "      <td>5.0</td>\n",
       "      <td>196.0</td>\n",
       "      <td>226.0</td>\n",
       "      <td>97.512438</td>\n",
       "      <td>Green Zone</td>\n",
       "      <td>44.536677</td>\n",
       "      <td>-78.212332</td>\n",
       "      <td>POINT (-78.21233 44.53668)</td>\n",
       "    </tr>\n",
       "    <tr>\n",
       "      <th>22</th>\n",
       "      <td>Porcupine Health Unit</td>\n",
       "      <td>8.0</td>\n",
       "      <td>9.0</td>\n",
       "      <td>99.0</td>\n",
       "      <td>116.0</td>\n",
       "      <td>91.666667</td>\n",
       "      <td>Green Zone</td>\n",
       "      <td>51.853103</td>\n",
       "      <td>-83.515776</td>\n",
       "      <td>POINT (-83.51578 51.85310)</td>\n",
       "    </tr>\n",
       "    <tr>\n",
       "      <th>23</th>\n",
       "      <td>Region of Waterloo, Public Health</td>\n",
       "      <td>500.0</td>\n",
       "      <td>126.0</td>\n",
       "      <td>3326.0</td>\n",
       "      <td>3952.0</td>\n",
       "      <td>96.349942</td>\n",
       "      <td>Green Zone</td>\n",
       "      <td>43.462836</td>\n",
       "      <td>-80.538676</td>\n",
       "      <td>POINT (-80.53868 43.46284)</td>\n",
       "    </tr>\n",
       "    <tr>\n",
       "      <th>24</th>\n",
       "      <td>Renfrew County and District Health Unit</td>\n",
       "      <td>4.0</td>\n",
       "      <td>1.0</td>\n",
       "      <td>131.0</td>\n",
       "      <td>136.0</td>\n",
       "      <td>99.242424</td>\n",
       "      <td>Green Zone</td>\n",
       "      <td>45.806334</td>\n",
       "      <td>-77.776952</td>\n",
       "      <td>POINT (-77.77695 45.80633)</td>\n",
       "    </tr>\n",
       "    <tr>\n",
       "      <th>25</th>\n",
       "      <td>Simcoe Muskoka District Health Unit</td>\n",
       "      <td>260.0</td>\n",
       "      <td>51.0</td>\n",
       "      <td>2017.0</td>\n",
       "      <td>2328.0</td>\n",
       "      <td>97.533849</td>\n",
       "      <td>Green Zone</td>\n",
       "      <td>44.777755</td>\n",
       "      <td>-79.545773</td>\n",
       "      <td>POINT (-79.54577 44.77775)</td>\n",
       "    </tr>\n",
       "    <tr>\n",
       "      <th>26</th>\n",
       "      <td>Southwestern Public Health</td>\n",
       "      <td>92.0</td>\n",
       "      <td>8.0</td>\n",
       "      <td>529.0</td>\n",
       "      <td>629.0</td>\n",
       "      <td>98.510242</td>\n",
       "      <td>Green Zone</td>\n",
       "      <td>42.989330</td>\n",
       "      <td>-80.786008</td>\n",
       "      <td>POINT (-80.78601 42.98933)</td>\n",
       "    </tr>\n",
       "    <tr>\n",
       "      <th>27</th>\n",
       "      <td>Sudbury &amp; District Health Unit</td>\n",
       "      <td>8.0</td>\n",
       "      <td>2.0</td>\n",
       "      <td>221.0</td>\n",
       "      <td>231.0</td>\n",
       "      <td>99.103139</td>\n",
       "      <td>Green Zone</td>\n",
       "      <td>47.846514</td>\n",
       "      <td>-83.047166</td>\n",
       "      <td>POINT (-83.04717 47.84651)</td>\n",
       "    </tr>\n",
       "    <tr>\n",
       "      <th>28</th>\n",
       "      <td>Thunder Bay District Health Unit</td>\n",
       "      <td>109.0</td>\n",
       "      <td>3.0</td>\n",
       "      <td>252.0</td>\n",
       "      <td>364.0</td>\n",
       "      <td>98.823529</td>\n",
       "      <td>Green Zone</td>\n",
       "      <td>52.397247</td>\n",
       "      <td>-88.531405</td>\n",
       "      <td>POINT (-88.53140 52.39725)</td>\n",
       "    </tr>\n",
       "    <tr>\n",
       "      <th>29</th>\n",
       "      <td>Timiskaming Health Unit</td>\n",
       "      <td>NaN</td>\n",
       "      <td>NaN</td>\n",
       "      <td>18.0</td>\n",
       "      <td>NaN</td>\n",
       "      <td>NaN</td>\n",
       "      <td>NA</td>\n",
       "      <td>47.653058</td>\n",
       "      <td>-80.215240</td>\n",
       "      <td>POINT (-80.21524 47.65306)</td>\n",
       "    </tr>\n",
       "    <tr>\n",
       "      <th>30</th>\n",
       "      <td>Toronto Public Health</td>\n",
       "      <td>4935.0</td>\n",
       "      <td>1640.0</td>\n",
       "      <td>36388.0</td>\n",
       "      <td>42963.0</td>\n",
       "      <td>95.687388</td>\n",
       "      <td>Red Zone</td>\n",
       "      <td>43.725845</td>\n",
       "      <td>-79.389558</td>\n",
       "      <td>POINT (-79.38956 43.72584)</td>\n",
       "    </tr>\n",
       "    <tr>\n",
       "      <th>31</th>\n",
       "      <td>Wellington-Dufferin-Guelph Public Health</td>\n",
       "      <td>184.0</td>\n",
       "      <td>40.0</td>\n",
       "      <td>1315.0</td>\n",
       "      <td>1539.0</td>\n",
       "      <td>97.047970</td>\n",
       "      <td>Green Zone</td>\n",
       "      <td>43.853642</td>\n",
       "      <td>-80.372085</td>\n",
       "      <td>POINT (-80.37208 43.85364)</td>\n",
       "    </tr>\n",
       "    <tr>\n",
       "      <th>32</th>\n",
       "      <td>Windsor-Essex County Health Unit</td>\n",
       "      <td>426.0</td>\n",
       "      <td>83.0</td>\n",
       "      <td>3470.0</td>\n",
       "      <td>3979.0</td>\n",
       "      <td>97.663946</td>\n",
       "      <td>Green Zone</td>\n",
       "      <td>42.156423</td>\n",
       "      <td>-82.777533</td>\n",
       "      <td>POINT (-82.77753 42.15642)</td>\n",
       "    </tr>\n",
       "    <tr>\n",
       "      <th>33</th>\n",
       "      <td>York Region Public Health Services</td>\n",
       "      <td>1330.0</td>\n",
       "      <td>324.0</td>\n",
       "      <td>10273.0</td>\n",
       "      <td>11927.0</td>\n",
       "      <td>96.942531</td>\n",
       "      <td>Red Zone</td>\n",
       "      <td>44.074977</td>\n",
       "      <td>-79.428212</td>\n",
       "      <td>POINT (-79.42821 44.07498)</td>\n",
       "    </tr>\n",
       "  </tbody>\n",
       "</table>\n",
       "</div>"
      ],
      "text/plain": [
       "                                        health_region  Active  Deceased  \\\n",
       "0                           Algoma Public Health Unit     1.0       NaN   \n",
       "1                            Brant County Health Unit    57.0       6.0   \n",
       "2                            Chatham-Kent Health Unit    31.0       4.0   \n",
       "3                     Durham Region Health Department   639.0     192.0   \n",
       "4                         Eastern Ontario Health Unit   140.0      40.0   \n",
       "5                              Grey Bruce Health Unit    35.0       NaN   \n",
       "6                       Haldimand-Norfolk Health Unit    34.0      37.0   \n",
       "7   Haliburton, Kawartha, Pine Ridge District Heal...    38.0      21.0   \n",
       "8                     Halton Region Health Department   471.0      67.0   \n",
       "9                     Hamilton Public Health Services   585.0      94.0   \n",
       "10    Hastings and Prince Edward Counties Health Unit    41.0       5.0   \n",
       "11                   Huron Perth District Health Unit    57.0      18.0   \n",
       "12  Kingston, Frontenac and Lennox & Addington Pub...    42.0       NaN   \n",
       "13                              Lambton Public Health    21.0      25.0   \n",
       "14   Leeds, Grenville and Lanark District Health Unit    34.0      53.0   \n",
       "15                       Middlesex-London Health Unit   292.0      67.0   \n",
       "16            Niagara Region Public Health Department   178.0      88.0   \n",
       "17         North Bay Parry Sound District Health Unit     9.0       1.0   \n",
       "18                           Northwestern Health Unit    11.0       NaN   \n",
       "19                               Ottawa Public Health   420.0     379.0   \n",
       "20                                 Peel Public Health  4526.0     383.0   \n",
       "21                         Peterborough Public Health    25.0       5.0   \n",
       "22                              Porcupine Health Unit     8.0       9.0   \n",
       "23                  Region of Waterloo, Public Health   500.0     126.0   \n",
       "24            Renfrew County and District Health Unit     4.0       1.0   \n",
       "25                Simcoe Muskoka District Health Unit   260.0      51.0   \n",
       "26                         Southwestern Public Health    92.0       8.0   \n",
       "27                     Sudbury & District Health Unit     8.0       2.0   \n",
       "28                   Thunder Bay District Health Unit   109.0       3.0   \n",
       "29                            Timiskaming Health Unit     NaN       NaN   \n",
       "30                              Toronto Public Health  4935.0    1640.0   \n",
       "31           Wellington-Dufferin-Guelph Public Health   184.0      40.0   \n",
       "32                   Windsor-Essex County Health Unit   426.0      83.0   \n",
       "33                 York Region Public Health Services  1330.0     324.0   \n",
       "\n",
       "    Recovered  Total Number of Cases  Odds of Survival Severity Zone  \\\n",
       "0        60.0                    NaN               NaN    Green Zone   \n",
       "1       575.0                  638.0         98.967298    Green Zone   \n",
       "2       488.0                  523.0         99.186992    Green Zone   \n",
       "3      4101.0                 4932.0         95.527603   Yellow Zone   \n",
       "4       754.0                  934.0         94.962217    Green Zone   \n",
       "5       308.0                    NaN               NaN    Green Zone   \n",
       "6       585.0                  656.0         94.051447    Green Zone   \n",
       "7       284.0                  343.0         93.114754    Green Zone   \n",
       "8      3274.0                 3812.0         97.994612    Green Zone   \n",
       "9      2891.0                 3570.0         96.850921   Yellow Zone   \n",
       "10      126.0                  172.0         96.183206    Green Zone   \n",
       "11      309.0                  384.0         94.495413    Green Zone   \n",
       "12      248.0                    NaN               NaN    Green Zone   \n",
       "13      381.0                  427.0         93.842365    Green Zone   \n",
       "14      434.0                  521.0         89.117043    Green Zone   \n",
       "15     1424.0                 1783.0         95.506372    Green Zone   \n",
       "16     2015.0                 2281.0         95.815502    Green Zone   \n",
       "17       75.0                   85.0         98.684211    Green Zone   \n",
       "18      115.0                    NaN               NaN    Green Zone   \n",
       "19     7976.0                 8775.0         95.463794    Green Zone   \n",
       "20    23318.0                28227.0         98.384034      Red Zone   \n",
       "21      196.0                  226.0         97.512438    Green Zone   \n",
       "22       99.0                  116.0         91.666667    Green Zone   \n",
       "23     3326.0                 3952.0         96.349942    Green Zone   \n",
       "24      131.0                  136.0         99.242424    Green Zone   \n",
       "25     2017.0                 2328.0         97.533849    Green Zone   \n",
       "26      529.0                  629.0         98.510242    Green Zone   \n",
       "27      221.0                  231.0         99.103139    Green Zone   \n",
       "28      252.0                  364.0         98.823529    Green Zone   \n",
       "29       18.0                    NaN               NaN            NA   \n",
       "30    36388.0                42963.0         95.687388      Red Zone   \n",
       "31     1315.0                 1539.0         97.047970    Green Zone   \n",
       "32     3470.0                 3979.0         97.663946    Green Zone   \n",
       "33    10273.0                11927.0         96.942531      Red Zone   \n",
       "\n",
       "     latitude  longitude                    geometry  \n",
       "0   47.596789 -84.412469  POINT (-84.41247 47.59679)  \n",
       "1   43.120346 -80.295389  POINT (-80.29539 43.12035)  \n",
       "2   42.419253 -82.128088  POINT (-82.12809 42.41925)  \n",
       "3   44.035150 -78.882498  POINT (-78.88250 44.03515)  \n",
       "4   45.273060 -74.952579  POINT (-74.95258 45.27306)  \n",
       "5   44.408279 -81.008611  POINT (-81.00861 44.40828)  \n",
       "6   42.854447 -80.178035  POINT (-80.17804 42.85445)  \n",
       "7   44.671238 -78.897222  POINT (-78.89722 44.67124)  \n",
       "8   43.512097 -79.890508  POINT (-79.89051 43.51210)  \n",
       "9   43.253243 -79.958463  POINT (-79.95846 43.25324)  \n",
       "10  44.631167 -77.551861  POINT (-77.55186 44.63117)  \n",
       "11  43.600514 -81.281485  POINT (-81.28148 43.60051)  \n",
       "12  44.676754 -76.884254  POINT (-76.88425 44.67675)  \n",
       "13  42.886275 -82.098372  POINT (-82.09837 42.88628)  \n",
       "14  44.863782 -76.118058  POINT (-76.11806 44.86378)  \n",
       "15  42.995716 -81.456983  POINT (-81.45698 42.99572)  \n",
       "16  43.045446 -79.313670  POINT (-79.31367 43.04545)  \n",
       "17  46.085384 -79.686823  POINT (-79.68682 46.08538)  \n",
       "18  51.494809 -92.553456  POINT (-92.55346 51.49481)  \n",
       "19  45.179578 -75.799952  POINT (-75.79995 45.17958)  \n",
       "20  43.761613 -79.813571  POINT (-79.81357 43.76161)  \n",
       "21  44.536677 -78.212332  POINT (-78.21233 44.53668)  \n",
       "22  51.853103 -83.515776  POINT (-83.51578 51.85310)  \n",
       "23  43.462836 -80.538676  POINT (-80.53868 43.46284)  \n",
       "24  45.806334 -77.776952  POINT (-77.77695 45.80633)  \n",
       "25  44.777755 -79.545773  POINT (-79.54577 44.77775)  \n",
       "26  42.989330 -80.786008  POINT (-80.78601 42.98933)  \n",
       "27  47.846514 -83.047166  POINT (-83.04717 47.84651)  \n",
       "28  52.397247 -88.531405  POINT (-88.53140 52.39725)  \n",
       "29  47.653058 -80.215240  POINT (-80.21524 47.65306)  \n",
       "30  43.725845 -79.389558  POINT (-79.38956 43.72584)  \n",
       "31  43.853642 -80.372085  POINT (-80.37208 43.85364)  \n",
       "32  42.156423 -82.777533  POINT (-82.77753 42.15642)  \n",
       "33  44.074977 -79.428212  POINT (-79.42821 44.07498)  "
      ]
     },
     "execution_count": 52,
     "metadata": {},
     "output_type": "execute_result"
    }
   ],
   "source": [
    "#6.6.5\n",
    "#Reset index to plot the health regions:\n",
    "geo_health_region_df = geo_health_region_df.reset_index()\n",
    "geo_health_region_df"
   ]
  },
  {
   "cell_type": "markdown",
   "metadata": {
    "id": "Z9acFnwD5F0J"
   },
   "source": [
    "***a) Province with the highest and lowest no. of \"Active cases\" cases in Ontario***"
   ]
  },
  {
   "cell_type": "code",
   "execution_count": 53,
   "metadata": {
    "id": "iVGVNERv5ss8"
   },
   "outputs": [
    {
     "data": {
      "image/png": "[encoded data removed]",
      "text/plain": [
       "<Figure size 1440x1440 with 1 Axes>"
      ]
     },
     "metadata": {
      "needs_background": "light"
     },
     "output_type": "display_data"
    }
   ],
   "source": [
    "#6.6.6\n",
    "#Province with lowest and highest no. of active cases in Canada\n",
    "ax = ontario_map.plot(figsize = (20, 20), color = \"whitesmoke\", edgecolor = \"lightgrey\", linewidth = 0.5)\n",
    "texts = []\n",
    "texts1 = []\n",
    "\n",
    "#Label the name of the province:\n",
    "for x, y, label in zip(ontario_map_points1.geometry.x, ontario_map_points1.geometry.y, ontario_map_points1[\"PRENAME\"]):\n",
    "    texts.append(plt.text(x, y, label, fontsize = 10))\n",
    "\n",
    "aT.adjust_text(texts, force_points=0.3, force_text=0.8, expand_points=(1,1), expand_text=(1,1), \n",
    "               arrowprops=dict(arrowstyle=\"-\", color='black', lw=0.5))\n",
    "\n",
    "#Label the region with min active cases\n",
    "min_region = geo_health_region_df[geo_health_region_df['Active'] == geo_health_region_df['Active'].min()]\n",
    "min_points1 = min_region.copy()\n",
    "min_points1.set_geometry(min_region[\"geometry\"].representative_point(), inplace = True)\n",
    "\n",
    "#Plot the min point on the map\n",
    "min_region.plot(ax = ax, markersize = 30, color = \"blue\", marker = \"^\", label = \"Lowest Active Cases\")\n",
    "for x, y, label in zip(min_points1.geometry.x, min_points1.geometry.y, min_region[\"health_region\"]):\n",
    "    texts1.append(plt.text(x, y, label, size = 12, fontweight=\"bold\", color=\"blue\"))\n",
    "    \n",
    "#Label the region with max active cases    \n",
    "max_region = geo_health_region_df[geo_health_region_df['Active'] == geo_health_region_df['Active'].max()]    \n",
    "max_points1 = max_region.copy()\n",
    "max_points1.set_geometry(max_region[\"geometry\"].representative_point(), inplace = True)\n",
    "\n",
    "#Plot the max point on the map\n",
    "max_region.plot(ax = ax, markersize = 30, color = \"red\", marker = \"^\", label = \"Highest Active Cases\")\n",
    "for x, y, label in zip(max_points1.geometry.x, max_points1.geometry.y, max_region[\"health_region\"]):\n",
    "    texts1.append(plt.text(x, y, label, size = 12, fontweight=\"bold\", color=\"red\"))    \n",
    "\n",
    "#Display data point labels on the map    \n",
    "aT.adjust_text(texts1, force_points=0.3, force_text=0.8, expand_points=(1,1), expand_text=(1,1), fontsize=12)\n",
    "  \n",
    "plt.legend(prop={'size': 12})\n",
    "plt.xlabel(\"longitude\")\n",
    "plt.ylabel(\"latitude\");\n",
    "plt.title('Province with the highest and lowest no. of active cases in Ontario');"
   ]
  },
  {
   "cell_type": "markdown",
   "metadata": {
    "id": "NWRxbBa_vpb5"
   },
   "source": [
    "**\"Toronto Public Health\"**  has the highest no. of active cases in Canada and **\"Algoma Public Health Unit\"** in Ontario has the lowest active case of 1. "
   ]
  },
  {
   "cell_type": "markdown",
   "metadata": {
    "id": "T-6OGlaB6MWK"
   },
   "source": [
    "***b) Health region severity zones in the province of Ontario***"
   ]
  },
  {
   "cell_type": "code",
   "execution_count": 54,
   "metadata": {
    "id": "tH4GKMDb6Jy-"
   },
   "outputs": [
    {
     "data": {
      "image/png": "[encoded data removed]",
      "text/plain": [
       "<Figure size 1800x1800 with 1 Axes>"
      ]
     },
     "metadata": {
      "needs_background": "light"
     },
     "output_type": "display_data"
    }
   ],
   "source": [
    "#6.6.7\n",
    "#Health region severity zones in Ontario\n",
    "ax = ontario_map.plot(figsize = (25, 25), color = \"whitesmoke\", edgecolor = \"lightgrey\", linewidth = 0.5)\n",
    "texts = []\n",
    "texts1 = []\n",
    "\n",
    "#Define regions with different zones:    \n",
    "severity_red_zone_df = geo_health_region_df[(geo_health_region_df['Severity Zone'] == \"Red Zone\")]\n",
    "severity_yellow_zone_df = geo_health_region_df[(geo_health_region_df['Severity Zone'] == \"Yellow Zone\")]\n",
    "severity_green_zone_df = geo_health_region_df[(geo_health_region_df['Severity Zone'] == \"Green Zone\")]\n",
    "\n",
    "severity_zone_df = severity_red_zone_df\n",
    "severity_zone_df = severity_zone_df.append(severity_yellow_zone_df)\n",
    "severity_zone_df = severity_zone_df.append(severity_green_zone_df)\n",
    "\n",
    "#Set geometry for data points:\n",
    "zone_points1 = severity_zone_df.copy()\n",
    "zone_points1.set_geometry(severity_zone_df[\"geometry\"].representative_point(), inplace = True)\n",
    "\n",
    "#Plot data points on the map\n",
    "severity_red_zone_df.plot(ax = ax, markersize = 10, color = \"red\", marker = \"o\", label = \"Red Zone\")\n",
    "severity_yellow_zone_df.plot(ax = ax, markersize = 10, color = \"yellow\", marker = \"o\", label = \"Yellow Zone\")\n",
    "severity_green_zone_df.plot(ax = ax, markersize = 10, color = \"green\", marker = \"o\", label = \"Green Zone\")\n",
    "\n",
    "#Display data point labels on the map \n",
    "for x, y, label in zip(zone_points1.geometry.x, zone_points1.geometry.y, severity_zone_df['health_region']):\n",
    "    texts1.append(plt.text(x, y, label, size=7))          \n",
    "aT.adjust_text(texts1, force_points=0.3, force_text=0.7, expand_points=(1,1), expand_text=(1,1), fontsize=12)\n",
    "     \n",
    "plt.legend(prop={'size': 12})\n",
    "plt.xlabel(\"longitude\")\n",
    "plt.ylabel(\"latitude\");\n",
    "plt.title('Figure-13: Different health region severity zones in Ontario');"
   ]
  },
  {
   "cell_type": "markdown",
   "metadata": {
    "id": "brpizTGp3RJF"
   },
   "source": [
    "***Toronto Public Health, Peel Public Health and York Region Public Health Services*** are the red zone areas in Ontario with the highest no. of active cases reported.  Toronto Public Health is the health region that needs to be first on the list for vaccine distribution.  "
   ]
  }
 ],
 "metadata": {
  "colab": {
   "collapsed_sections": [
    "FQNFZFuFfvlv"
   ],
   "name": "Project Group7.ipynb",
   "provenance": []
  },
  "kernelspec": {
   "display_name": "Python 3",
   "language": "python",
   "name": "python3"
  },
  "language_info": {
   "codemirror_mode": {
    "name": "ipython",
    "version": 3
   },
   "file_extension": ".py",
   "mimetype": "text/x-python",
   "name": "python",
   "nbconvert_exporter": "python",
   "pygments_lexer": "ipython3",
   "version": "3.8.3"
  }
 },
 "nbformat": 4,
 "nbformat_minor": 1
}
